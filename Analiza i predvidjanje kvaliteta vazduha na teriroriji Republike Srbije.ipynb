{
 "cells": [
  {
   "cell_type": "markdown",
   "metadata": {},
   "source": [
    "# Analiza i predvidjanje kvaliteta vazduha na teritoriji Srbije\n",
    "**Autor**: *Nikola Selić IN-43-2017*"
   ]
  },
  {
   "cell_type": "markdown",
   "metadata": {},
   "source": [
    "## Motivacija\n",
    "Srbija, konkretno Beograd, je bio medju prvima, a kasnije i prvi, na listi zagadjenosti vezduha na svetu https://www.airvisual.com/world-air-quality-ranking. Podatak jeste zabrinjavajuć i, samim tim, glavna motivacija ovog rada je jedan od načina kako se može reagovati na tu pojavu. Agregirajući zvanične podatke o kvalitetu vazduha kao i vrste štetnih gasova u našoj atmosferi bi za cilj trebalo da informiše šire javne mase o opasnosti i štetnosti koje ti gasovi izazivaju.\n",
    "(https://i.redd.it/g7c4hmz73vu31.jpg)"
   ]
  },
  {
   "cell_type": "markdown",
   "metadata": {},
   "source": [
    "## Cilj\n",
    "Glavna tema ovog projekta je predvidjanje kvaliteta vazduha u atmosferi koristeci podatke iz meteoroloskih stanica Srbije. Konkretno, koristimo podatke za Liman, Novi Sad. Obradjujemo sledeće faktore kvaliteta vazduha:\n",
    "-   CO\n",
    "-   SO2\n",
    "-   O3\n",
    "-   NO2\n",
    "-   NOX\n",
    "-   NO"
   ]
  },
  {
   "cell_type": "markdown",
   "metadata": {},
   "source": [
    "## Hipoteza\n",
    "Zato što postoji trend izmedju vremena (24 sata) i koncentracije CO i ostalih štetnih gasova, mozemo pretpostaviti buduću vrednost emisije gasova u periodu od jednog dana."
   ]
  },
  {
   "cell_type": "markdown",
   "metadata": {},
   "source": [
    "## Algoritmi\n",
    "Algoritmi koji bi se koristili u implementaciji projekta su:\n",
    "\n",
    "#### Odredjivanje AQI (Air Quality Index)\n",
    "AQI je medjunarodni stantard za koeficijent kvaliteta vazduha. Izracunava se pomoću formule:\n",
    "\n",
    "$ I = \\frac{(I_{high} - I_{low}) * (C - C_{low})}{C_{high} - C_{low}} + I_{low} $\n",
    "\n",
    "Gde je:\n",
    "-   $I$ - Indeks kvaliteta vazduha\n",
    "-   $C$ - Trenutna koncentracija zagadjivača\n",
    "-   $C_{low} $- Donja dozvoljena granica koncentracije čestica u vremenskom periodu$*$\n",
    "-   $C_{high} $- Gornja dozvoljena granica koncentracije čestica u vremenskom periodu$*$\n",
    "-   $I_{low} $- Donja dozvoljena granica AQI\n",
    "-   $I_{high} $-  Gornja dozvoljena granica AQI  \n",
    "\n",
    "\n",
    "$*$ Vremenski period zavisi kod konkretne čestice.\n",
    "\n",
    "\n",
    "\n",
    "Tabela svih vrednosti kao i kategorizacija stepena zagadjenosti vazduha prikazuje više detalja.\n",
    "\n",
    "\n",
    "<table class=\"wikitable\" style=\"text-align:left;\">\n",
    "<tbody><tr>\n",
    "<td><b><a href=\"/wiki/Ozone\" title=\"Ozone\">O<sub>3</sub></a> (ppb)</b></td>\n",
    "<td><b><a href=\"/wiki/Ozone\" title=\"Ozone\">O<sub>3</sub></a> (ppb)</b></td>\n",
    "<td><b><a href=\"/wiki/Particulates\" title=\"Particulates\">PM<sub>2.5</sub></a> (μg/m<sup>3</sup>)</b></td>\n",
    "<td><b><a href=\"/wiki/Particulates\" title=\"Particulates\">PM<sub>10</sub></a> (μg/m<sup>3</sup>)</b></td>\n",
    "<td><b><a href=\"/wiki/Carbon_monoxide\" title=\"Carbon monoxide\">CO</a> (ppm)</b></td>\n",
    "<td><b><a href=\"/wiki/Sulfur_dioxide\" title=\"Sulfur dioxide\">SO<sub>2</sub></a> (ppb)</b></td>\n",
    "<td><b><a href=\"/wiki/Nitrogen_dioxide\" title=\"Nitrogen dioxide\">NO<sub>2</sub></a> (ppb)</b></td>\n",
    "<td><b>AQI</b></td>\n",
    "<td><b>AQI</b>\n",
    "</td></tr>\n",
    "<tr>\n",
    "<td><i>C<sub>low</sub></i> - <i>C<sub>high</sub> (avg)</i></td>\n",
    "<td><i>C<sub>low</sub></i> - <i>C<sub>high</sub> (avg)</i></td>\n",
    "<td><i>C<sub>low</sub></i>- <i>C<sub>high</sub> (avg)</i></td>\n",
    "<td><i>C<sub>low</sub></i> - <i>C<sub>high</sub> (avg)</i></td>\n",
    "<td><i>C<sub>low</sub></i> - <i>C<sub>high</sub> (avg)</i></td>\n",
    "<td><i>C<sub>low</sub></i> - <i>C<sub>high</sub> (avg)</i></td>\n",
    "<td><i>C<sub>low</sub></i> - <i>C<sub>high</sub> (avg)</i></td>\n",
    "<td><i>I<sub>low</sub></i> - <i>I<sub>high</sub></i></td>\n",
    "<td><b>Category</b>\n",
    "</td></tr>\n",
    "<tr>\n",
    "<td>0-54 (8-hr)</td>\n",
    "<td>-</td>\n",
    "<td>0.0-12.0 (24-hr)</td>\n",
    "<td>0-54 (24-hr)</td>\n",
    "<td>0.0-4.4 (8-hr)</td>\n",
    "<td>0-35 (1-hr)</td>\n",
    "<td>0-53 (1-hr)</td>\n",
    "<td>0-50</td>\n",
    "<td style=\"background:#00e400;\">Good\n",
    "</td></tr>\n",
    "<tr>\n",
    "<td>55-70 (8-hr)</td>\n",
    "<td>-</td>\n",
    "<td>12.1-35.4 (24-hr)</td>\n",
    "<td>55-154 (24-hr)</td>\n",
    "<td>4.5-9.4 (8-hr)</td>\n",
    "<td>36-75  (1-hr)</td>\n",
    "<td>54-100 (1-hr)</td>\n",
    "<td>51-100</td>\n",
    "<td style=\"background:#ff0;\">Moderate\n",
    "</td></tr>\n",
    "<tr>\n",
    "<td>71-85 (8-hr)</td>\n",
    "<td>125-164 (1-hr)</td>\n",
    "<td>35.5-55.4 (24-hr)</td>\n",
    "<td>155-254  (24-hr)</td>\n",
    "<td>9.5-12.4 (8-hr)</td>\n",
    "<td>76-185  (1-hr)</td>\n",
    "<td>101-360 (1-hr)</td>\n",
    "<td>101-150</td>\n",
    "<td style=\"background:#ff7e00;\">Unhealthy for Sensitive Groups\n",
    "</td></tr>\n",
    "<tr>\n",
    "<td>86-105 (8-hr)</td>\n",
    "<td>165-204 (1-hr)</td>\n",
    "<td>55.5-150.4  (24-hr)</td>\n",
    "<td>255-354  (24-hr)</td>\n",
    "<td>12.5-15.4 (8-hr)</td>\n",
    "<td>186-304 (1-hr)</td>\n",
    "<td>361-649 (1-hr)</td>\n",
    "<td>151-200</td>\n",
    "<td style=\"background:#f00; color:#fff;\">Unhealthy\n",
    "</td></tr>\n",
    "<tr>\n",
    "<td>106-200 (8-hr)</td>\n",
    "<td>205-404 (1-hr)</td>\n",
    "<td>150.5-250.4  (24-hr)</td>\n",
    "<td>355-424 (24-hr)</td>\n",
    "<td>15.5-30.4 (8-hr)</td>\n",
    "<td>305-604 (24-hr)</td>\n",
    "<td>650-1249 (1-hr)</td>\n",
    "<td>201-300</td>\n",
    "<td style=\"background:#99004c; color:#fff;\">Very Unhealthy\n",
    "</td></tr>\n",
    "<tr>\n",
    "<td>-</td>\n",
    "<td>405-504 (1-hr)</td>\n",
    "<td>250.5-350.4  (24-hr)</td>\n",
    "<td>425-504  (24-hr)</td>\n",
    "<td>30.5-40.4 (8-hr)</td>\n",
    "<td>605-804 (24-hr)</td>\n",
    "<td>1250-1649 (1-hr)</td>\n",
    "<td>301-400</td>\n",
    "<td style=\"background:#7e0023; color:#fff;\" rowspan=\"2\">Hazardous\n",
    "</td></tr>\n",
    "<tr>\n",
    "<td>-</td>\n",
    "<td>505-604 (1-hr)</td>\n",
    "<td>350.5-500.4 (24-hr)</td>\n",
    "<td>505-604  (24-hr)</td>\n",
    "<td>40.5-50.4 (8-hr)</td>\n",
    "<td>805-1004 (24-hr)</td>\n",
    "<td>1650-2049 (1-hr)</td>\n",
    "<td>401-500\n",
    "</td></tr></tbody></table>"
   ]
  },
  {
   "cell_type": "markdown",
   "metadata": {},
   "source": [
    "#### Linearna regresija\n",
    "\n",
    "Linearna regresija predstavlja problem regresije u kome se pretpostavlja linearna veza između vrednosti ciljne promenljive i atributa. Predstavlja model oblika:\n",
    "\n",
    "Zadatak linearne regresije je određivanje vrednosti parametra  koji najbolje odgovaraju trening podacima. Naziv linerna je vezana za linearnost relacije po parametrima .\n",
    "\n",
    "#### Multivarijabilna Linearna Regresija\n",
    "Multivariajilna linearna regresija se koristi kada imamo više promenljivih ili (eng. features) koje trebamo uzimati u obzir. Naša funkcija hipoteze se može napisati kao:\n",
    "\n",
    "$ h_\\theta(x) = \\theta_0 + \\sum\\limits_{i=1}^{m} \\theta_ix_i$\n",
    "\n",
    "Odavde, možemo rešiti jednačinu pomoću algoritma opadajućeg gradijenta (eng. Gradient Descent)\n",
    "\n",
    "#### Mutivarijabilni algoritam opadajuceg gradijenta\n",
    "Multivarijabilni kriterijum optimalnosti je sličan kao i univarijabilni:\n",
    "\n",
    "$J(\\overrightarrow{\\theta}) = \\frac{1}{m} \\sum\\limits_{i=1}^{m} (h_\\theta(x^{(i)}) - y^{(i)})^2$ (nekada $\\frac{1}{2m}$ zbog lepšeg izvoda)\n",
    "\n",
    "\n",
    "#### Ispitivanje kvaliteta linearne regresije\n",
    "\n",
    "Osnova mera kvaliteta linearne regresije je srednjekvadratna greška - LSE ( eng. Least Squares Error ), koja meri odstupanje predviđenih vrednosti na nekom test skupu od stvarnih.\n",
    "\n",
    "$ S=\\sum_{i=1}^{n}\\left(y_{i}-\\hat{y_i}\\right)^{2} $\n",
    "\n",
    "Za razliku od L1 regularizacije, L2 garantuje konvergenciju."
   ]
  },
  {
   "cell_type": "markdown",
   "metadata": {},
   "source": [
    "#### Regulisanje težina u funkciji\n",
    "\n",
    "Neke od tehnika za uprosćavanje kompleksnosti modela i samim tim sprečiti overfitting, do koga može doći pri regresiji. Regularizacioni izrazi su obično zasnovani na normama.\n",
    "\n",
    "Za slučaj Ridge regularizacije norma je: \n",
    "\n",
    "$ \\Omega(w)=\\|w\\|_{2}^{2}=\\sum_{i=1}^{m} w_{i}^{2} $\n",
    "\n",
    "Dok za Lasso regularizaciju:\n",
    "\n",
    "\n",
    "$ \\Omega(w)=\\|w\\|_{1}=\\sum_{i=1}^{m}\\left|w_{i}\\right| $ \n",
    "\n",
    "Ridge regresija\n",
    "\n",
    "U ridge regresiji, funkcija optimalnosti je izmenjena dodajući kaznenu funkciju.\n",
    "\n",
    "$ \\sum_{i=1}^{M}\\left(y_{i}-\\hat{y}_{i}\\right)^{2}=\\sum_{i=1}^{M}\\left(y_{i}-\\sum_{j=0}^{p} w_{j} \\times x_{i j}\\right)^{2}+\\lambda * \\sum_{j=0}^{p} w_{j}^{2} $\n",
    "\n",
    " član služi za regularizaciju koeficijenata (  ) i smanjenje njihovog uticaja na model. Tj. Ridge regresija smanjuje kompleksnost modela.\n",
    "\n",
    "Lasso regresija\n",
    "\n",
    "$ \\sum_{i=1}^{M}\\left(y_{i}-\\hat{y}_{i}\\right)^{2}=\\sum_{i=1}^{M}\\left(y_{i}-\\sum_{j=0}^{p} w_{j} \\times x_{i j}\\right)^{2}+\\lambda *  \\sum_{j=0}^{p}\\left|w_{j}\\right| $ \n",
    "\n",
    "Funkcija optimalnosti kod Lasso ( Least absolute shrinkage and selection operator ) može biti napisano kao\n",
    "\n",
    "Jedina razlika je umesto kvadrat koeficijenata, uzima se njihova apsolutna vrednost. Ovaj tip regularizacije nam, pored smanjenja overfitting-a, pomaže nam i pri odabiru feature-a.\n",
    "\n"
   ]
  },
  {
   "cell_type": "markdown",
   "metadata": {},
   "source": [
    "## Alati\n",
    "Za izgradnju projekta tj. analizu podataka i implementaciju regresije u svrsi saznavanja budućih vrednosti, koristi se **Python** programski jezik,ili konkretnije, **Jupyter Notebook** okruženje.\n",
    "\n",
    "\n",
    "Ostali alati i biblioteke koji su korisćeni su:\n",
    " - numpy - Koristi se za rad nad matricama - \n",
    " - pandas - Omogućava dobru organizaciju podataka i rad sa ključevima kao i ostalim obeležijama\n",
    " - requests - Služi za slanje http zahteva koji koristimo za pozivanje API-a\n",
    " - selenium - Koristi se za automatsko korišćenje internet pretraživaca\n",
    " - BeautifulSoup -  Omogućava čitanje html stranica i izvlačenja informacija iz iste"
   ]
  },
  {
   "cell_type": "markdown",
   "metadata": {},
   "source": [
    "## Podaci\n",
    "\n",
    "#### Podaci sa AMSKV\n",
    "Podaci su pribavljeni sa zvaničnog sajta Ministarstva zaštite životne sredine - Agencija za zaštitu životne sredine - http://www.amskv.sepa.gov.rs/.\n",
    "Agencija za zaštitu životne sredine nema API ili drugi način pribavljanja podataka u nekom formatu, tako da za regionalne podatke moramo koristiti tehniku automatskog pribavljanja podataka (eng. web scraping).\n",
    "Podaci postoje zasebno i njihovo spajanje ćemo prikazati u samom predlogu. Sav kod pribavljanja i čiscenja podataka se nalazi u data_scripting.py\n",
    "\n",
    "Za svaku lokaciju postoji određeni dataset sa koncentracijom određenih gasova u vazduhu po satu. Lokacije koje su uključene u analizu su: Novi Sad, Beograd, Šabac, Niš, Užice i Kragujevac.\n",
    "Broj obeležija u dataset-u je 12.\n",
    "\n",
    "Obeležija koja se nalaze u kreiranom dataset-u su:\n",
    " - Vreme\n",
    " - Mesto\n",
    " - Koncentracija SO2 SO2 [ug.m-3]\n",
    " - Koncentracija O3 [ug.m-3]\n",
    " - Koncentracija NO2 [ug.m-3]\n",
    " - Koncentracija NOX [ug.m-3]\n",
    " - Koncentracija CO [mg.m-3]\n",
    " - Koncentracija NO [ug.m-3]\n",
    " - Brzina vetra V [m/s]\n",
    " - Mera grejanja i hlađenja vazduha dd [°]\n",
    " - Vazdušni pritisak P [mb] \n",
    " - Temperatura t [°C]\n"
   ]
  },
  {
   "cell_type": "markdown",
   "metadata": {},
   "source": [
    "Prikaz prikupljenih meteoroloških podataka"
   ]
  },
  {
   "cell_type": "code",
   "execution_count": 1,
   "metadata": {},
   "outputs": [],
   "source": [
    "import pandas as pd\n",
    "import matplotlib.pyplot as plt\n",
    "import numpy as np\n",
    "\n",
    "\n",
    "df_novisad = pd.read_csv(\"./data/amskv_novisad.csv\")\n",
    "df_beograd = pd.read_csv(\"./data/amskv_beograd.csv\")\n",
    "df_kragujevac = pd.read_csv(\"./data/amskv_kragujevac.csv\")\n",
    "df_nis = pd.read_csv(\"./data/amskv_nis.csv\")\n",
    "df_sabac = pd.read_csv(\"./data/amskv_sabac.csv\")\n",
    "df_uzice = pd.read_csv(\"./data/amskv_uzice.csv\")\n",
    "\n",
    "df_novisad = df_novisad.drop([\"Unnamed: 0\"],axis=1)"
   ]
  },
  {
   "cell_type": "markdown",
   "metadata": {},
   "source": [
    "Možemo uočiti da su svi kontinualni osim mesta koji označava iz kog mesta je određen podatak. Moguće vrednosti obeležija Mesto su: Novi Sad, Beograd, Užice, Nis, Kragujevac i Šabac.\n",
    "\n",
    "Zatim, proveravamo da li imamo nedostatak podataka u dataset-ovima. Prikazaćemo na primeru podaci za Novi Sad :\n"
   ]
  },
  {
   "cell_type": "code",
   "execution_count": null,
   "metadata": {},
   "outputs": [],
   "source": [
    "df_novisad.isna().sum()\n",
    "plt.title(\"Koncentracija SO2 u Novom Sadu u intervalu od 60 dana\")\n",
    "plt.plot(df_novisad[\"Vreme\"],df_novisad[\"SO2 [ug.m-3]\"])"
   ]
  },
  {
   "cell_type": "markdown",
   "metadata": {},
   "source": [
    "Nedostatak podataka nam može predstavljati problem pri predikciji. Postoje više načina za rešavanje takvog problema. U ovom dataset-u koristićemo ugrađenu metodu bfill koja nedostajuću vrednost zamenjuje sa prethodnom poznatom vrednošću.\n"
   ]
  },
  {
   "cell_type": "code",
   "execution_count": 6,
   "metadata": {},
   "outputs": [
    {
     "data": {
      "text/plain": [
       "[<matplotlib.lines.Line2D at 0x7fd760ab8940>]"
      ]
     },
     "execution_count": 6,
     "metadata": {},
     "output_type": "execute_result"
    },
    {
     "data": {
      "image/png": "[encoded data removed]",
      "text/plain": [
       "<Figure size 432x288 with 1 Axes>"
      ]
     },
     "metadata": {
      "needs_background": "light"
     },
     "output_type": "display_data"
    }
   ],
   "source": [
    "df_novisad = df_novisad.bfill(axis=0)\n",
    "plt.title(\"Koncentracija SO2 u Novom Sadu u intervalu od 60 dana\")\n",
    "plt.plot(df_novisad[\"Vreme\"],df_novisad[\"SO2 [ug.m-3]\"])"
   ]
  },
  {
   "cell_type": "markdown",
   "metadata": {},
   "source": [
    "Zatim pridružujemo podatke u jedan dataset i dodajemo obeležije Mesto koje će nam služiti za određivanje lokacije odakle je pribavljena određena torka."
   ]
  },
  {
   "cell_type": "code",
   "execution_count": 6,
   "metadata": {
    "scrolled": false
   },
   "outputs": [
    {
     "name": "stderr",
     "output_type": "stream",
     "text": [
      "/usr/lib/python3.7/site-packages/ipykernel_launcher.py:8: FutureWarning: Sorting because non-concatenation axis is not aligned. A future version\n",
      "of pandas will change to not sort by default.\n",
      "\n",
      "To accept the future behavior, pass 'sort=False'.\n",
      "\n",
      "To retain the current behavior and silence the warning, pass 'sort=True'.\n",
      "\n",
      "  \n"
     ]
    },
    {
     "data": {
      "text/html": [
       "<div>\n",
       "<style scoped>\n",
       "    .dataframe tbody tr th:only-of-type {\n",
       "        vertical-align: middle;\n",
       "    }\n",
       "\n",
       "    .dataframe tbody tr th {\n",
       "        vertical-align: top;\n",
       "    }\n",
       "\n",
       "    .dataframe thead th {\n",
       "        text-align: right;\n",
       "    }\n",
       "</style>\n",
       "<table border=\"1\" class=\"dataframe\">\n",
       "  <thead>\n",
       "    <tr style=\"text-align: right;\">\n",
       "      <th></th>\n",
       "      <th>CO [mg.m-3]</th>\n",
       "      <th>Mesto</th>\n",
       "      <th>NO [ug.m-3]</th>\n",
       "      <th>NO2 [ug.m-3]</th>\n",
       "      <th>NOX [ug.m-3]</th>\n",
       "      <th>O3 [ug.m-3]</th>\n",
       "      <th>P [mb]</th>\n",
       "      <th>PM1 [ug.m-3]</th>\n",
       "      <th>PM10 [ug.m-3]</th>\n",
       "      <th>PM2.5 [ug.m-3]</th>\n",
       "      <th>Rh [%]</th>\n",
       "      <th>SO2 [ug.m-3]</th>\n",
       "      <th>Unnamed: 0</th>\n",
       "      <th>V [m/s]</th>\n",
       "      <th>Vreme</th>\n",
       "      <th>dd [°]</th>\n",
       "      <th>t [°C]</th>\n",
       "    </tr>\n",
       "  </thead>\n",
       "  <tbody>\n",
       "    <tr>\n",
       "      <th>0</th>\n",
       "      <td>0.22</td>\n",
       "      <td>Novi Sad</td>\n",
       "      <td>2.84</td>\n",
       "      <td>3.97</td>\n",
       "      <td>8.29</td>\n",
       "      <td>44.84</td>\n",
       "      <td>994.74</td>\n",
       "      <td>NaN</td>\n",
       "      <td>NaN</td>\n",
       "      <td>NaN</td>\n",
       "      <td>61.57</td>\n",
       "      <td>20.17</td>\n",
       "      <td>NaN</td>\n",
       "      <td>1.44</td>\n",
       "      <td>2019-11-03 18:00:00</td>\n",
       "      <td>100.27</td>\n",
       "      <td>19.05</td>\n",
       "    </tr>\n",
       "    <tr>\n",
       "      <th>1</th>\n",
       "      <td>0.23</td>\n",
       "      <td>Novi Sad</td>\n",
       "      <td>2.71</td>\n",
       "      <td>5.39</td>\n",
       "      <td>9.62</td>\n",
       "      <td>45.51</td>\n",
       "      <td>994.16</td>\n",
       "      <td>NaN</td>\n",
       "      <td>NaN</td>\n",
       "      <td>NaN</td>\n",
       "      <td>63.14</td>\n",
       "      <td>20.75</td>\n",
       "      <td>NaN</td>\n",
       "      <td>1.44</td>\n",
       "      <td>2019-11-03 19:00:00</td>\n",
       "      <td>127.30</td>\n",
       "      <td>18.72</td>\n",
       "    </tr>\n",
       "    <tr>\n",
       "      <th>2</th>\n",
       "      <td>0.18</td>\n",
       "      <td>Novi Sad</td>\n",
       "      <td>2.61</td>\n",
       "      <td>4.45</td>\n",
       "      <td>8.40</td>\n",
       "      <td>54.52</td>\n",
       "      <td>994.08</td>\n",
       "      <td>NaN</td>\n",
       "      <td>NaN</td>\n",
       "      <td>NaN</td>\n",
       "      <td>58.87</td>\n",
       "      <td>30.67</td>\n",
       "      <td>NaN</td>\n",
       "      <td>2.25</td>\n",
       "      <td>2019-11-03 20:00:00</td>\n",
       "      <td>137.82</td>\n",
       "      <td>19.75</td>\n",
       "    </tr>\n",
       "    <tr>\n",
       "      <th>3</th>\n",
       "      <td>0.20</td>\n",
       "      <td>Novi Sad</td>\n",
       "      <td>2.65</td>\n",
       "      <td>2.88</td>\n",
       "      <td>6.97</td>\n",
       "      <td>48.00</td>\n",
       "      <td>994.09</td>\n",
       "      <td>NaN</td>\n",
       "      <td>NaN</td>\n",
       "      <td>NaN</td>\n",
       "      <td>61.67</td>\n",
       "      <td>23.23</td>\n",
       "      <td>NaN</td>\n",
       "      <td>1.52</td>\n",
       "      <td>2019-11-03 21:00:00</td>\n",
       "      <td>136.23</td>\n",
       "      <td>18.51</td>\n",
       "    </tr>\n",
       "    <tr>\n",
       "      <th>4</th>\n",
       "      <td>0.21</td>\n",
       "      <td>Novi Sad</td>\n",
       "      <td>1.67</td>\n",
       "      <td>3.14</td>\n",
       "      <td>5.70</td>\n",
       "      <td>45.85</td>\n",
       "      <td>993.56</td>\n",
       "      <td>NaN</td>\n",
       "      <td>NaN</td>\n",
       "      <td>NaN</td>\n",
       "      <td>64.44</td>\n",
       "      <td>18.36</td>\n",
       "      <td>NaN</td>\n",
       "      <td>1.64</td>\n",
       "      <td>2019-11-03 22:00:00</td>\n",
       "      <td>137.55</td>\n",
       "      <td>17.91</td>\n",
       "    </tr>\n",
       "  </tbody>\n",
       "</table>\n",
       "</div>"
      ],
      "text/plain": [
       "   CO [mg.m-3]     Mesto  NO [ug.m-3]  NO2 [ug.m-3]  NOX [ug.m-3]  \\\n",
       "0         0.22  Novi Sad         2.84          3.97          8.29   \n",
       "1         0.23  Novi Sad         2.71          5.39          9.62   \n",
       "2         0.18  Novi Sad         2.61          4.45          8.40   \n",
       "3         0.20  Novi Sad         2.65          2.88          6.97   \n",
       "4         0.21  Novi Sad         1.67          3.14          5.70   \n",
       "\n",
       "   O3 [ug.m-3]  P [mb]  PM1 [ug.m-3]  PM10 [ug.m-3]  PM2.5 [ug.m-3]  Rh [%]  \\\n",
       "0        44.84  994.74           NaN            NaN             NaN   61.57   \n",
       "1        45.51  994.16           NaN            NaN             NaN   63.14   \n",
       "2        54.52  994.08           NaN            NaN             NaN   58.87   \n",
       "3        48.00  994.09           NaN            NaN             NaN   61.67   \n",
       "4        45.85  993.56           NaN            NaN             NaN   64.44   \n",
       "\n",
       "   SO2 [ug.m-3]  Unnamed: 0  V [m/s]                Vreme  dd [°]  t [°C]  \n",
       "0         20.17         NaN     1.44  2019-11-03 18:00:00  100.27   19.05  \n",
       "1         20.75         NaN     1.44  2019-11-03 19:00:00  127.30   18.72  \n",
       "2         30.67         NaN     2.25  2019-11-03 20:00:00  137.82   19.75  \n",
       "3         23.23         NaN     1.52  2019-11-03 21:00:00  136.23   18.51  \n",
       "4         18.36         NaN     1.64  2019-11-03 22:00:00  137.55   17.91  "
      ]
     },
     "execution_count": 6,
     "metadata": {},
     "output_type": "execute_result"
    }
   ],
   "source": [
    "df = pd.DataFrame()\n",
    "df_novisad[\"Mesto\"] = \"Novi Sad\"\n",
    "df_beograd[\"Mesto\"] = \"Beograd\"\n",
    "df_uzice[\"Mesto\"] = \"Uzice\"\n",
    "df_sabac[\"Mesto\"] = \"Sabac\"\n",
    "df_nis[\"Mesto\"] = \"Nis\"\n",
    "df_kragujevac[\"Mesto\"] = \"Kragujevac\"\n",
    "df = pd.concat([df_novisad,df_beograd,df_kragujevac,df_nis,df_sabac,df_uzice], ignore_index=True)\n",
    "\n",
    "\n",
    "df.to_csv(\"./data/total.csv\")\n",
    "df.head()\n"
   ]
  },
  {
   "cell_type": "markdown",
   "metadata": {},
   "source": [
    "Nakon toga, radi lakšeg uočavanja korelacije između lokacija i ostalih obeležija, dodajemo dodatne kolone po principu one-hot encoding, tj. binarno reprezentujemo i obeležavamo lokaciju pribavljenog podatka, tako što za svaku lokaciju postojaće odgovarajuća kolona koja sadrži 1 ili 0 vrednost, u zavisnosti od toga da li jeste, ili nije iz date lokacije.\n"
   ]
  },
  {
   "cell_type": "code",
   "execution_count": 7,
   "metadata": {},
   "outputs": [
    {
     "data": {
      "text/html": [
       "<div>\n",
       "<style scoped>\n",
       "    .dataframe tbody tr th:only-of-type {\n",
       "        vertical-align: middle;\n",
       "    }\n",
       "\n",
       "    .dataframe tbody tr th {\n",
       "        vertical-align: top;\n",
       "    }\n",
       "\n",
       "    .dataframe thead th {\n",
       "        text-align: right;\n",
       "    }\n",
       "</style>\n",
       "<table border=\"1\" class=\"dataframe\">\n",
       "  <thead>\n",
       "    <tr style=\"text-align: right;\">\n",
       "      <th></th>\n",
       "      <th>CO [mg.m-3]</th>\n",
       "      <th>Mesto</th>\n",
       "      <th>NO [ug.m-3]</th>\n",
       "      <th>NO2 [ug.m-3]</th>\n",
       "      <th>NOX [ug.m-3]</th>\n",
       "      <th>O3 [ug.m-3]</th>\n",
       "      <th>P [mb]</th>\n",
       "      <th>PM1 [ug.m-3]</th>\n",
       "      <th>PM10 [ug.m-3]</th>\n",
       "      <th>PM2.5 [ug.m-3]</th>\n",
       "      <th>...</th>\n",
       "      <th>V [m/s]</th>\n",
       "      <th>Vreme</th>\n",
       "      <th>dd [°]</th>\n",
       "      <th>t [°C]</th>\n",
       "      <th>Mesto_Beograd</th>\n",
       "      <th>Mesto_Kragujevac</th>\n",
       "      <th>Mesto_Nis</th>\n",
       "      <th>Mesto_Novi Sad</th>\n",
       "      <th>Mesto_Sabac</th>\n",
       "      <th>Mesto_Uzice</th>\n",
       "    </tr>\n",
       "  </thead>\n",
       "  <tbody>\n",
       "    <tr>\n",
       "      <th>0</th>\n",
       "      <td>0.22</td>\n",
       "      <td>Novi Sad</td>\n",
       "      <td>2.84</td>\n",
       "      <td>3.97</td>\n",
       "      <td>8.29</td>\n",
       "      <td>44.84</td>\n",
       "      <td>994.74</td>\n",
       "      <td>NaN</td>\n",
       "      <td>NaN</td>\n",
       "      <td>NaN</td>\n",
       "      <td>...</td>\n",
       "      <td>1.44</td>\n",
       "      <td>2019-11-03 18:00:00</td>\n",
       "      <td>100.27</td>\n",
       "      <td>19.05</td>\n",
       "      <td>0</td>\n",
       "      <td>0</td>\n",
       "      <td>0</td>\n",
       "      <td>1</td>\n",
       "      <td>0</td>\n",
       "      <td>0</td>\n",
       "    </tr>\n",
       "    <tr>\n",
       "      <th>1</th>\n",
       "      <td>0.23</td>\n",
       "      <td>Novi Sad</td>\n",
       "      <td>2.71</td>\n",
       "      <td>5.39</td>\n",
       "      <td>9.62</td>\n",
       "      <td>45.51</td>\n",
       "      <td>994.16</td>\n",
       "      <td>NaN</td>\n",
       "      <td>NaN</td>\n",
       "      <td>NaN</td>\n",
       "      <td>...</td>\n",
       "      <td>1.44</td>\n",
       "      <td>2019-11-03 19:00:00</td>\n",
       "      <td>127.30</td>\n",
       "      <td>18.72</td>\n",
       "      <td>0</td>\n",
       "      <td>0</td>\n",
       "      <td>0</td>\n",
       "      <td>1</td>\n",
       "      <td>0</td>\n",
       "      <td>0</td>\n",
       "    </tr>\n",
       "    <tr>\n",
       "      <th>2</th>\n",
       "      <td>0.18</td>\n",
       "      <td>Novi Sad</td>\n",
       "      <td>2.61</td>\n",
       "      <td>4.45</td>\n",
       "      <td>8.40</td>\n",
       "      <td>54.52</td>\n",
       "      <td>994.08</td>\n",
       "      <td>NaN</td>\n",
       "      <td>NaN</td>\n",
       "      <td>NaN</td>\n",
       "      <td>...</td>\n",
       "      <td>2.25</td>\n",
       "      <td>2019-11-03 20:00:00</td>\n",
       "      <td>137.82</td>\n",
       "      <td>19.75</td>\n",
       "      <td>0</td>\n",
       "      <td>0</td>\n",
       "      <td>0</td>\n",
       "      <td>1</td>\n",
       "      <td>0</td>\n",
       "      <td>0</td>\n",
       "    </tr>\n",
       "    <tr>\n",
       "      <th>3</th>\n",
       "      <td>0.20</td>\n",
       "      <td>Novi Sad</td>\n",
       "      <td>2.65</td>\n",
       "      <td>2.88</td>\n",
       "      <td>6.97</td>\n",
       "      <td>48.00</td>\n",
       "      <td>994.09</td>\n",
       "      <td>NaN</td>\n",
       "      <td>NaN</td>\n",
       "      <td>NaN</td>\n",
       "      <td>...</td>\n",
       "      <td>1.52</td>\n",
       "      <td>2019-11-03 21:00:00</td>\n",
       "      <td>136.23</td>\n",
       "      <td>18.51</td>\n",
       "      <td>0</td>\n",
       "      <td>0</td>\n",
       "      <td>0</td>\n",
       "      <td>1</td>\n",
       "      <td>0</td>\n",
       "      <td>0</td>\n",
       "    </tr>\n",
       "    <tr>\n",
       "      <th>4</th>\n",
       "      <td>0.21</td>\n",
       "      <td>Novi Sad</td>\n",
       "      <td>1.67</td>\n",
       "      <td>3.14</td>\n",
       "      <td>5.70</td>\n",
       "      <td>45.85</td>\n",
       "      <td>993.56</td>\n",
       "      <td>NaN</td>\n",
       "      <td>NaN</td>\n",
       "      <td>NaN</td>\n",
       "      <td>...</td>\n",
       "      <td>1.64</td>\n",
       "      <td>2019-11-03 22:00:00</td>\n",
       "      <td>137.55</td>\n",
       "      <td>17.91</td>\n",
       "      <td>0</td>\n",
       "      <td>0</td>\n",
       "      <td>0</td>\n",
       "      <td>1</td>\n",
       "      <td>0</td>\n",
       "      <td>0</td>\n",
       "    </tr>\n",
       "  </tbody>\n",
       "</table>\n",
       "<p>5 rows × 23 columns</p>\n",
       "</div>"
      ],
      "text/plain": [
       "   CO [mg.m-3]     Mesto  NO [ug.m-3]  NO2 [ug.m-3]  NOX [ug.m-3]  \\\n",
       "0         0.22  Novi Sad         2.84          3.97          8.29   \n",
       "1         0.23  Novi Sad         2.71          5.39          9.62   \n",
       "2         0.18  Novi Sad         2.61          4.45          8.40   \n",
       "3         0.20  Novi Sad         2.65          2.88          6.97   \n",
       "4         0.21  Novi Sad         1.67          3.14          5.70   \n",
       "\n",
       "   O3 [ug.m-3]  P [mb]  PM1 [ug.m-3]  PM10 [ug.m-3]  PM2.5 [ug.m-3]  ...  \\\n",
       "0        44.84  994.74           NaN            NaN             NaN  ...   \n",
       "1        45.51  994.16           NaN            NaN             NaN  ...   \n",
       "2        54.52  994.08           NaN            NaN             NaN  ...   \n",
       "3        48.00  994.09           NaN            NaN             NaN  ...   \n",
       "4        45.85  993.56           NaN            NaN             NaN  ...   \n",
       "\n",
       "   V [m/s]                Vreme  dd [°]  t [°C] Mesto_Beograd  \\\n",
       "0     1.44  2019-11-03 18:00:00  100.27   19.05             0   \n",
       "1     1.44  2019-11-03 19:00:00  127.30   18.72             0   \n",
       "2     2.25  2019-11-03 20:00:00  137.82   19.75             0   \n",
       "3     1.52  2019-11-03 21:00:00  136.23   18.51             0   \n",
       "4     1.64  2019-11-03 22:00:00  137.55   17.91             0   \n",
       "\n",
       "   Mesto_Kragujevac  Mesto_Nis  Mesto_Novi Sad  Mesto_Sabac  Mesto_Uzice  \n",
       "0                 0          0               1            0            0  \n",
       "1                 0          0               1            0            0  \n",
       "2                 0          0               1            0            0  \n",
       "3                 0          0               1            0            0  \n",
       "4                 0          0               1            0            0  \n",
       "\n",
       "[5 rows x 23 columns]"
      ]
     },
     "execution_count": 7,
     "metadata": {},
     "output_type": "execute_result"
    }
   ],
   "source": [
    "df = pd.concat([df,pd.get_dummies(df['Mesto'], prefix='Mesto')],axis=1)\n",
    "df.to_csv(\"./data/total_ohe.csv\")\n",
    "df.head()"
   ]
  },
  {
   "cell_type": "markdown",
   "metadata": {},
   "source": [
    "#### Treniranje i testiranje modela\n",
    "Podaci nad kojima se vrši generalizacija su podaci za trening. Testiranje predikcije nad podacima na osnovu kojih je učeno obično dovodi do značajno boljih rezultata od onih koji se mogu kasnije dobiti u samoj primeni. Stoga je pre upotrebe potrebno proceniti kvalitet naučenog znanja. To se obično radi tako što se razmatra koliko je kvalitetna predikcija u odnosu na neke unapred date podatke za testiranje. Pre same podele, potrebno je i izmešati podatke da bi dobili slučajno izabrane torke pri deljenju.\n",
    "\n",
    "\n",
    "Za svaku lokaciju tj. mesto, uradićemo podelu. Podatke ćemo podeliti prema već empirijski utvrđenom standardu na: \n",
    "\n",
    " - Treniranje:  80 %\n",
    " - Testiranje:  20 %\n",
    "\n",
    "Možemo koristiti metodu iz biblioteke scikit-learn da radnomizuje odabir torki i uradi adekvatnu podelu. Za primer, uradićemo podelu podataka prikupljenih na lokaciji Novi Sad.\n"
   ]
  },
  {
   "cell_type": "code",
   "execution_count": 8,
   "metadata": {
    "scrolled": true
   },
   "outputs": [
    {
     "name": "stdout",
     "output_type": "stream",
     "text": [
      "(575, 13)\n",
      "(144, 13)\n",
      "Proporcija podele: \n",
      "\t79.97218358831711\n",
      "\t20.027816411682892\n"
     ]
    }
   ],
   "source": [
    "from sklearn.model_selection import train_test_split\n",
    "\n",
    "df_novisad_train, df_novisad_test = train_test_split(df_novisad, train_size=0.8, test_size=0.2)\n",
    "\n",
    "print(df_novisad_train.shape)\n",
    "print(df_novisad_test.shape)\n",
    "\n",
    "print(\"Proporcija podele: \")\n",
    "print(\"\\t\" + str(df_novisad_train.shape[0] / df_novisad.shape[0] * 100))\n",
    "print(\"\\t\" + str(df_novisad_test.shape[0]  / df_novisad.shape[0] * 100))"
   ]
  },
  {
   "cell_type": "markdown",
   "metadata": {},
   "source": [
    "### Korisni prikazi podataka\n",
    "Neki prikazi podataka koji mogu bolje da objasne odnos podataka.\n",
    "#### Korelacija podataka\n",
    "Prikazujemo korelacionu matricu da bi uočili korelaciju vrednosti svakog obeležija. \n"
   ]
  },
  {
   "cell_type": "code",
   "execution_count": 73,
   "metadata": {},
   "outputs": [],
   "source": [
    "import seaborn as sea\n",
    "\n",
    "df_beograd = df_beograd.bfill(axis=0)\n",
    "df_sabac = df_sabac.bfill(axis=0)\n",
    "df_uzice = df_uzice.bfill(axis=0)\n",
    "df_kragujevac = df_kragujevac.bfill(axis=0)\n",
    "df_nis = df_nis.bfill(axis=0)"
   ]
  },
  {
   "cell_type": "code",
   "execution_count": 77,
   "metadata": {},
   "outputs": [
    {
     "data": {
      "text/plain": [
       "<matplotlib.axes._subplots.AxesSubplot at 0x7fc704453510>"
      ]
     },
     "execution_count": 77,
     "metadata": {},
     "output_type": "execute_result"
    },
    {
     "data": {
      "image/png": "[encoded data removed]",
      "text/plain": [
       "<Figure size 432x288 with 2 Axes>"
      ]
     },
     "metadata": {
      "needs_background": "light"
     },
     "output_type": "display_data"
    }
   ],
   "source": [
    "import seaborn as sea\n",
    "\n",
    "sea.heatmap(df.corr())"
   ]
  },
  {
   "cell_type": "markdown",
   "metadata": {},
   "source": [
    "Uočavamo korelaciju između lokacije i određenih koncentracija gasova. Očiglednija je korelacija između lokacije Užice i koncentracije NO2 ( corr = 0.859 ) kao i ostalih gasova.\n",
    "\n",
    "Takođe uočavamo da nam nedustaju podaci o koncentraciji O3 za lokacije Niš, Užice, Šabac i Kragujevac, kao i podaci o koncentraciji CO za Niš i SO2 za Beograd.\n",
    " \n",
    "Nedostatak podataka može predstavljati problem pri izračunavanju AQI, ali pomoću obeležija koja već imamo, možemo izvući potreban indeks. Postoji korelacija između koncentracije CO i SO2 \n",
    "sa ostalim gasovima i samim tim možemo predpostaviti kretanje istih gasova u odnosu na kretanje drugih. Valja napomenuti da koncentracija O3 ima slabu korelaciju sa ostalim gasovima pa samim tim neće ući u račun AQI indeksa za lokacije bez podataka za koncentraciju O3."
   ]
  },
  {
   "cell_type": "markdown",
   "metadata": {},
   "source": [
    "Prezentovaćemo odnos koncentracije CO u vazduhu, sa lokalitetom merenja.\n"
   ]
  },
  {
   "cell_type": "code",
   "execution_count": 76,
   "metadata": {},
   "outputs": [
    {
     "data": {
      "text/plain": [
       "[<matplotlib.lines.Line2D at 0x7fc707531110>]"
      ]
     },
     "execution_count": 76,
     "metadata": {},
     "output_type": "execute_result"
    },
    {
     "data": {
      "image/png": "[encoded data removed]",
      "text/plain": [
       "<Figure size 432x288 with 1 Axes>"
      ]
     },
     "metadata": {
      "needs_background": "light"
     },
     "output_type": "display_data"
    }
   ],
   "source": [
    "import matplotlib.pyplot as plt\n",
    "\n",
    "size = 168\n",
    "\n",
    "fig, ax = plt.subplots()\n",
    "ax.stackplot(\\\n",
    "             df_novisad[\"Vreme\"].tail(size),\\\n",
    "             df_novisad[\"CO [mg.m-3]\"].tail(size),\\\n",
    "             df_beograd[\"CO [mg.m-3]\"].tail(size),\\\n",
    "             df_kragujevac[\"CO [mg.m-3]\"].tail(size),\n",
    "             df_sabac[\"CO [mg.m-3]\"].tail(size),\\\n",
    "             df_uzice[\"CO [mg.m-3]\"].tail(size),\\\n",
    "             labels=[\"Novi Sad\", \"Beograd\", \"Kragujevac\", \"Sabac\",\"Uzice\"])\n",
    "ax.legend()\n",
    "plt.title(\"Koncentracija CO u vazduhu u prethodnoj nedelji\")\n",
    "plt.plot(\\\n",
    "              df_novisad[\"Vreme\"].tail(size),\\\n",
    "              df_novisad[\"CO [mg.m-3]\"].tail(size)\n",
    ")\n"
   ]
  },
  {
   "cell_type": "markdown",
   "metadata": {},
   "source": [
    "Kao što smo uočili ranije da postoji korelacije između koncentracije CO i lokacije Užice, možemo uočiti do šest puta veću emisiju CO u Užicu u odnosu na Beograd.\n",
    "\n",
    "Takodje možemo uočiti zajednički trend kretanja koncentracije CO na svim lokacijama na bliskim intervalima. Pored jasnog trenda kretanja u toku dana i noći, oučavamo i da je i sama vrednost CO obeležija zavisna od ostalih lokacija. "
   ]
  },
  {
   "cell_type": "markdown",
   "metadata": {},
   "source": [
    "#### Deskriptivna analiza podataka"
   ]
  },
  {
   "cell_type": "code",
   "execution_count": 94,
   "metadata": {
    "scrolled": true
   },
   "outputs": [
    {
     "data": {
      "text/html": [
       "<div>\n",
       "<style scoped>\n",
       "    .dataframe tbody tr th:only-of-type {\n",
       "        vertical-align: middle;\n",
       "    }\n",
       "\n",
       "    .dataframe tbody tr th {\n",
       "        vertical-align: top;\n",
       "    }\n",
       "\n",
       "    .dataframe thead th {\n",
       "        text-align: right;\n",
       "    }\n",
       "</style>\n",
       "<table border=\"1\" class=\"dataframe\">\n",
       "  <thead>\n",
       "    <tr style=\"text-align: right;\">\n",
       "      <th></th>\n",
       "      <th>CO [mg.m-3]</th>\n",
       "      <th>NO [ug.m-3]</th>\n",
       "      <th>NO2 [ug.m-3]</th>\n",
       "      <th>NOX [ug.m-3]</th>\n",
       "      <th>O3 [ug.m-3]</th>\n",
       "      <th>P [mb]</th>\n",
       "      <th>Rh [%]</th>\n",
       "      <th>SO2 [ug.m-3]</th>\n",
       "      <th>V [m/s]</th>\n",
       "      <th>dd [°]</th>\n",
       "      <th>t [°C]</th>\n",
       "      <th>Mesto_Beograd</th>\n",
       "      <th>Mesto_Kragujevac</th>\n",
       "      <th>Mesto_Nis</th>\n",
       "      <th>Mesto_Novi Sad</th>\n",
       "      <th>Mesto_Sabac</th>\n",
       "      <th>Mesto_Uzice</th>\n",
       "    </tr>\n",
       "  </thead>\n",
       "  <tbody>\n",
       "    <tr>\n",
       "      <th>count</th>\n",
       "      <td>3547.000000</td>\n",
       "      <td>4213.000000</td>\n",
       "      <td>4209.000000</td>\n",
       "      <td>4213.000000</td>\n",
       "      <td>1391.000000</td>\n",
       "      <td>4318.000000</td>\n",
       "      <td>3599.000000</td>\n",
       "      <td>3494.000000</td>\n",
       "      <td>4318.000000</td>\n",
       "      <td>4318.000000</td>\n",
       "      <td>4318.000000</td>\n",
       "      <td>4319.000000</td>\n",
       "      <td>4319.000000</td>\n",
       "      <td>4319.000000</td>\n",
       "      <td>4319.000000</td>\n",
       "      <td>4319.000000</td>\n",
       "      <td>4319.000000</td>\n",
       "    </tr>\n",
       "    <tr>\n",
       "      <th>mean</th>\n",
       "      <td>0.709072</td>\n",
       "      <td>33.136361</td>\n",
       "      <td>28.078812</td>\n",
       "      <td>78.877315</td>\n",
       "      <td>28.806693</td>\n",
       "      <td>993.338374</td>\n",
       "      <td>73.193170</td>\n",
       "      <td>6.895653</td>\n",
       "      <td>1.110188</td>\n",
       "      <td>163.723453</td>\n",
       "      <td>11.643342</td>\n",
       "      <td>0.166937</td>\n",
       "      <td>0.166705</td>\n",
       "      <td>0.166474</td>\n",
       "      <td>0.166474</td>\n",
       "      <td>0.166705</td>\n",
       "      <td>0.166705</td>\n",
       "    </tr>\n",
       "    <tr>\n",
       "      <th>std</th>\n",
       "      <td>0.598145</td>\n",
       "      <td>42.815129</td>\n",
       "      <td>25.941614</td>\n",
       "      <td>85.966271</td>\n",
       "      <td>18.718143</td>\n",
       "      <td>15.192769</td>\n",
       "      <td>14.412445</td>\n",
       "      <td>5.825119</td>\n",
       "      <td>0.969041</td>\n",
       "      <td>96.948744</td>\n",
       "      <td>5.134694</td>\n",
       "      <td>0.372963</td>\n",
       "      <td>0.372756</td>\n",
       "      <td>0.372548</td>\n",
       "      <td>0.372548</td>\n",
       "      <td>0.372756</td>\n",
       "      <td>0.372756</td>\n",
       "    </tr>\n",
       "    <tr>\n",
       "      <th>min</th>\n",
       "      <td>0.100000</td>\n",
       "      <td>0.500000</td>\n",
       "      <td>0.500000</td>\n",
       "      <td>2.480000</td>\n",
       "      <td>0.500000</td>\n",
       "      <td>952.090000</td>\n",
       "      <td>30.340000</td>\n",
       "      <td>0.500000</td>\n",
       "      <td>0.010000</td>\n",
       "      <td>0.120000</td>\n",
       "      <td>-3.290000</td>\n",
       "      <td>0.000000</td>\n",
       "      <td>0.000000</td>\n",
       "      <td>0.000000</td>\n",
       "      <td>0.000000</td>\n",
       "      <td>0.000000</td>\n",
       "      <td>0.000000</td>\n",
       "    </tr>\n",
       "    <tr>\n",
       "      <th>25%</th>\n",
       "      <td>0.330000</td>\n",
       "      <td>5.880000</td>\n",
       "      <td>10.850000</td>\n",
       "      <td>22.550000</td>\n",
       "      <td>13.500000</td>\n",
       "      <td>986.280000</td>\n",
       "      <td>63.220000</td>\n",
       "      <td>4.030000</td>\n",
       "      <td>0.370000</td>\n",
       "      <td>85.950000</td>\n",
       "      <td>7.980000</td>\n",
       "      <td>0.000000</td>\n",
       "      <td>0.000000</td>\n",
       "      <td>0.000000</td>\n",
       "      <td>0.000000</td>\n",
       "      <td>0.000000</td>\n",
       "      <td>0.000000</td>\n",
       "    </tr>\n",
       "    <tr>\n",
       "      <th>50%</th>\n",
       "      <td>0.470000</td>\n",
       "      <td>15.430000</td>\n",
       "      <td>18.200000</td>\n",
       "      <td>45.740000</td>\n",
       "      <td>26.740000</td>\n",
       "      <td>996.420000</td>\n",
       "      <td>74.100000</td>\n",
       "      <td>5.695000</td>\n",
       "      <td>0.790000</td>\n",
       "      <td>136.705000</td>\n",
       "      <td>12.120000</td>\n",
       "      <td>0.000000</td>\n",
       "      <td>0.000000</td>\n",
       "      <td>0.000000</td>\n",
       "      <td>0.000000</td>\n",
       "      <td>0.000000</td>\n",
       "      <td>0.000000</td>\n",
       "    </tr>\n",
       "    <tr>\n",
       "      <th>75%</th>\n",
       "      <td>0.880000</td>\n",
       "      <td>44.710000</td>\n",
       "      <td>33.370000</td>\n",
       "      <td>103.040000</td>\n",
       "      <td>41.975000</td>\n",
       "      <td>1004.287500</td>\n",
       "      <td>83.935000</td>\n",
       "      <td>8.090000</td>\n",
       "      <td>1.620000</td>\n",
       "      <td>245.787500</td>\n",
       "      <td>15.380000</td>\n",
       "      <td>0.000000</td>\n",
       "      <td>0.000000</td>\n",
       "      <td>0.000000</td>\n",
       "      <td>0.000000</td>\n",
       "      <td>0.000000</td>\n",
       "      <td>0.000000</td>\n",
       "    </tr>\n",
       "    <tr>\n",
       "      <th>max</th>\n",
       "      <td>5.620000</td>\n",
       "      <td>381.030000</td>\n",
       "      <td>157.610000</td>\n",
       "      <td>715.320000</td>\n",
       "      <td>196.390000</td>\n",
       "      <td>1022.420000</td>\n",
       "      <td>100.000000</td>\n",
       "      <td>127.110000</td>\n",
       "      <td>5.450000</td>\n",
       "      <td>359.940000</td>\n",
       "      <td>26.630000</td>\n",
       "      <td>1.000000</td>\n",
       "      <td>1.000000</td>\n",
       "      <td>1.000000</td>\n",
       "      <td>1.000000</td>\n",
       "      <td>1.000000</td>\n",
       "      <td>1.000000</td>\n",
       "    </tr>\n",
       "  </tbody>\n",
       "</table>\n",
       "</div>"
      ],
      "text/plain": [
       "       CO [mg.m-3]  NO [ug.m-3]  NO2 [ug.m-3]  NOX [ug.m-3]  O3 [ug.m-3]  \\\n",
       "count  3547.000000  4213.000000   4209.000000   4213.000000  1391.000000   \n",
       "mean      0.709072    33.136361     28.078812     78.877315    28.806693   \n",
       "std       0.598145    42.815129     25.941614     85.966271    18.718143   \n",
       "min       0.100000     0.500000      0.500000      2.480000     0.500000   \n",
       "25%       0.330000     5.880000     10.850000     22.550000    13.500000   \n",
       "50%       0.470000    15.430000     18.200000     45.740000    26.740000   \n",
       "75%       0.880000    44.710000     33.370000    103.040000    41.975000   \n",
       "max       5.620000   381.030000    157.610000    715.320000   196.390000   \n",
       "\n",
       "            P [mb]       Rh [%]  SO2 [ug.m-3]      V [m/s]       dd [°]  \\\n",
       "count  4318.000000  3599.000000   3494.000000  4318.000000  4318.000000   \n",
       "mean    993.338374    73.193170      6.895653     1.110188   163.723453   \n",
       "std      15.192769    14.412445      5.825119     0.969041    96.948744   \n",
       "min     952.090000    30.340000      0.500000     0.010000     0.120000   \n",
       "25%     986.280000    63.220000      4.030000     0.370000    85.950000   \n",
       "50%     996.420000    74.100000      5.695000     0.790000   136.705000   \n",
       "75%    1004.287500    83.935000      8.090000     1.620000   245.787500   \n",
       "max    1022.420000   100.000000    127.110000     5.450000   359.940000   \n",
       "\n",
       "            t [°C]  Mesto_Beograd  Mesto_Kragujevac    Mesto_Nis  \\\n",
       "count  4318.000000    4319.000000       4319.000000  4319.000000   \n",
       "mean     11.643342       0.166937          0.166705     0.166474   \n",
       "std       5.134694       0.372963          0.372756     0.372548   \n",
       "min      -3.290000       0.000000          0.000000     0.000000   \n",
       "25%       7.980000       0.000000          0.000000     0.000000   \n",
       "50%      12.120000       0.000000          0.000000     0.000000   \n",
       "75%      15.380000       0.000000          0.000000     0.000000   \n",
       "max      26.630000       1.000000          1.000000     1.000000   \n",
       "\n",
       "       Mesto_Novi Sad  Mesto_Sabac  Mesto_Uzice  \n",
       "count     4319.000000  4319.000000  4319.000000  \n",
       "mean         0.166474     0.166705     0.166705  \n",
       "std          0.372548     0.372756     0.372756  \n",
       "min          0.000000     0.000000     0.000000  \n",
       "25%          0.000000     0.000000     0.000000  \n",
       "50%          0.000000     0.000000     0.000000  \n",
       "75%          0.000000     0.000000     0.000000  \n",
       "max          1.000000     1.000000     1.000000  "
      ]
     },
     "execution_count": 94,
     "metadata": {},
     "output_type": "execute_result"
    }
   ],
   "source": [
    "df.describe()"
   ]
  },
  {
   "cell_type": "markdown",
   "metadata": {},
   "source": [
    "### Implementacija"
   ]
  },
  {
   "cell_type": "markdown",
   "metadata": {},
   "source": [
    "Zbog nedostatka signala potrebnih za AQI u pojedinim gradovima, upotrebljavamo multivarijabilnu regresiju da napravimo model kretanja tačaka u gradovima kod kojih imamo poznate potrebne signale.\n",
    "\n",
    "Najviše signala imamo u gradovima Beograd i Novi Sad, dok nedovoljno signala imamo za gradove kao što su Niš, Kragujevac i Užice.\n",
    "\n",
    "Samim tim, mnogi prikazi AQI za gradove sa manjim brojem signala se svode na konkretnu procenu AQI za date faktore. Tj. daju nepotpuno kretanje svih čestica, već pojedinih."
   ]
  },
  {
   "cell_type": "markdown",
   "metadata": {},
   "source": [
    "Izabrali smo grad Niš za procenu AQI i dan 03.12.2019. Za procenu AQI uzimamo atribute SO2, NO2."
   ]
  },
  {
   "cell_type": "code",
   "execution_count": 2,
   "metadata": {},
   "outputs": [],
   "source": [
    "import matplotlib.pyplot as plt\n",
    "from util.data_processing import *\n",
    "from algorithms.AQI import *\n",
    "from algorithms.Regression import *\n",
    "from algorithms.Metric import *\n",
    "\n",
    "grad = \"nis\"\n",
    "interval = 7 * 24 * 4 \n",
    "stepen = 1"
   ]
  },
  {
   "cell_type": "code",
   "execution_count": 3,
   "metadata": {},
   "outputs": [
    {
     "data": {
      "text/plain": [
       "[<matplotlib.lines.Line2D at 0x7fe1c9efb130>]"
      ]
     },
     "execution_count": 3,
     "metadata": {},
     "output_type": "execute_result"
    },
    {
     "data": {
      "image/png": "[encoded data removed]",
      "text/plain": [
       "<Figure size 432x288 with 1 Axes>"
      ]
     },
     "metadata": {
      "needs_background": "light"
     },
     "output_type": "display_data"
    }
   ],
   "source": [
    "atributi = [\"SO2 [ug.m-3]\",\"NO2 [ug.m-3]\"]\n",
    "\n",
    "yy = find_and_save_aqi(grad,atributi)\n",
    "plt.plot(yy)"
   ]
  },
  {
   "cell_type": "markdown",
   "metadata": {},
   "source": [
    "Dobili smo aproksimirani signal AQI za Niš i sačuvali u csv datoteku."
   ]
  },
  {
   "cell_type": "markdown",
   "metadata": {},
   "source": [
    "#### Predikcija novih vrednosti AQI\n",
    "\n",
    "Nakon poznatih AQI vrednosti za odradjeni grad, možemo dalje raditi pretpostavku o budućoj vrednosti kretanja.\n",
    "\n",
    "Na početku, otvaramo AQI podatke koje smo prethodno aproksimirali."
   ]
  },
  {
   "cell_type": "code",
   "execution_count": 4,
   "metadata": {},
   "outputs": [],
   "source": [
    "y = pd.read_csv(\"./data/aqi_\" + grad + \".csv\")\n",
    "x = np.linspace(0,len(y),len(y))"
   ]
  },
  {
   "cell_type": "markdown",
   "metadata": {},
   "source": [
    "Zatim instanciramo klasu Regression u kojoj se sadrže algoritmi potrebni za dalji rad.\n",
    "\n",
    "model.fit(x, y, stepen, mode) metoda za parametre uzima:\n",
    " - x i y nizovi\n",
    " - stepen aproksimiranog polinoma\n",
    " - mode: ridge ili lasso\n"
   ]
  },
  {
   "cell_type": "code",
   "execution_count": 5,
   "metadata": {},
   "outputs": [],
   "source": [
    "model = Regression()\n",
    "x_train, x_test , y_train, y_test = train_test_split(x,y)\n",
    "w = model.fit(x_train, y_train, 1, \"ridge\")\n",
    "yy1 = w[0] + w[1] * x\n",
    "w = predict(grad,interval,2)\n",
    "yy2 = w[2] + w[1] * x + w[0] * x ** 2\n",
    "w = predict(grad,interval,3)\n",
    "yy3 = w[3] + w[2] * x + w[1] * x ** 2 + w[0] * x ** 3\n"
   ]
  },
  {
   "cell_type": "code",
   "execution_count": 19,
   "metadata": {},
   "outputs": [
    {
     "data": {
      "image/png": "[encoded data removed]",
      "text/plain": [
       "<Figure size 432x288 with 1 Axes>"
      ]
     },
     "metadata": {
      "needs_background": "light"
     },
     "output_type": "display_data"
    }
   ],
   "source": [
    "plt.scatter(x,y, alpha=0.4)\n",
    "plt.plot(x,yy1, color=\"red\")\n",
    "plt.plot(x,yy2, color=\"green\")\n",
    "plt.plot(x,yy3, color=\"black\")\n",
    "plt.show()"
   ]
  },
  {
   "cell_type": "markdown",
   "metadata": {},
   "source": [
    "### Procena tačnosti dobijenih rezultata\n",
    "\n",
    "\n",
    "Procenjujemo koji stepen polinoma najpreciznije aproksimira buduću vrednost AQI. Koristimo R2 način merenja greške."
   ]
  },
  {
   "cell_type": "code",
   "execution_count": 7,
   "metadata": {},
   "outputs": [
    {
     "name": "stdout",
     "output_type": "stream",
     "text": [
      "[0.04715168]\n",
      "[0.09562013]\n",
      "[0.08676243]\n"
     ]
    }
   ],
   "source": [
    "from algorithms.Metric import Metric\n",
    "\n",
    "y = y.to_numpy()\n",
    "m1 = Metric(y,yy1)\n",
    "m2 = Metric(y,yy2)\n",
    "m3 = Metric(y,yy3)\n",
    "\n",
    "print(m1.eval(\"r2\"))\n",
    "print(m2.eval(\"r2\"))\n",
    "print(m3.eval(\"r2\"))\n"
   ]
  },
  {
   "cell_type": "markdown",
   "metadata": {},
   "source": [
    "Primećujemo da nam najviše odgovara polinom 2. stepena."
   ]
  },
  {
   "cell_type": "markdown",
   "metadata": {},
   "source": [
    "Proveravamo vrednost AQI na drugim sajtovima tako što uzimamo aproksimiranu srednju vrednost za taj dan ( 15 minuta * 4 * 24 sata )."
   ]
  },
  {
   "cell_type": "code",
   "execution_count": 12,
   "metadata": {},
   "outputs": [],
   "source": [
    "nis_pred = yy3[-4 * 24:-1].mean()"
   ]
  },
  {
   "cell_type": "markdown",
   "metadata": {},
   "source": [
    "Proveravamo na https://aqicn.org/city/serbia/nis/izjz-nis/ web stranici kakva je vrednost zapravo bila tog dana"
   ]
  },
  {
   "cell_type": "markdown",
   "metadata": {},
   "source": [
    "<img src=\"./pictures/nis_dec_pm10.png\"\n",
    "     alt=\"\"\n",
    "     style=\"float: left; margin-right: 10px;\" />\n",
    "<img src=\"./pictures/nis_dec_no2.png\"\n",
    "     alt=\"\"\n",
    "     style=\"float: left; margin-right: 10px;\" />\n",
    "<img src=\"./pictures/nis_dec_so2.png\"\n",
    "     alt=\"\"\n",
    "     style=\"float: left; margin-right: 10px;\" />"
   ]
  },
  {
   "cell_type": "markdown",
   "metadata": {},
   "source": [
    "Sa obzirom da na web stranici ne postoje podaci za sve signale, nego je AQI izračunat za svaki signal ponaosob, uzećemo srednju vrednost poznatih AQI za taj dan."
   ]
  },
  {
   "cell_type": "code",
   "execution_count": 19,
   "metadata": {},
   "outputs": [
    {
     "name": "stdout",
     "output_type": "stream",
     "text": [
      "13.666666666666666\n",
      "19.730717326934187\n"
     ]
    },
    {
     "data": {
      "text/plain": [
       "6.064050660267521"
      ]
     },
     "execution_count": 19,
     "metadata": {},
     "output_type": "execute_result"
    }
   ],
   "source": [
    "nis_aqicn = (32 + 6  + 3) / 3\n",
    "print(nis_aqicn)\n",
    "print(nis_pred)\n",
    "nis_pred - nis_aqicn"
   ]
  },
  {
   "cell_type": "markdown",
   "metadata": {},
   "source": [
    "Razlika predstavlja grešku od 30%."
   ]
  },
  {
   "cell_type": "markdown",
   "metadata": {},
   "source": [
    "##  Grafički interfejs za predstavu kvaliteta vazduha\n",
    "\n",
    "Zbog pogodnosti korisnika najintuitivniji način reprezentacije kvaliteta vazduha je kroz softver za mobilne telefone ili internet stranicu.\n",
    "\n",
    "Aplikacija bi omogućila prikaz klasifikacije trenutnog stanja AQI indeksa, kao i prognoziranu vrednost AQI i njegovu klasifikaciju za narednih 24h sata.\n",
    "\n",
    "<img src=\"./pictures/app.png\"\n",
    "     alt=\"\"\n",
    "     style=\"float: left; margin-right: 10px;\" />\n",
    "<img src=\"./pictures/app2.png\"\n",
    "     alt=\"\"\n",
    "     style=\"float: left; margin-right: 10px;\" />"
   ]
  },
  {
   "cell_type": "markdown",
   "metadata": {},
   "source": [
    "## Literatura\n",
    " - https://www.ritchieng.com/multi-variable-linear-regression/\n",
    " - https://cmertin.github.io/Predicting-Air-Quality.html\n",
    " - https://airnow.gov/index.cfm?action=aqibasics.aqi\n",
    " - https://en.wikipedia.org/wiki/Air_quality_index#Computing_the_AQI\n",
    " - https://www.kdnuggets.com/2016/12/best-metric-measure-accuracy-classification-models.html\n",
    " - https://towardsdatascience.com/ridge-and-lasso-regression-a-complete-guide-with-python-scikit-learn-e20e34bcbf0b\n",
    " - https://sr.wikipedia.org/sr-el/%D0%90%D0%BB%D0%B3%D0%BE%D1%80%D0%B8%D1%82%D0%B0%D0%BC_%D0%BE%D0%BF%D0%B0%D0%B4%D0%B0%D1%98%D1%83%D1%9B%D0%B5%D0%B3_%D0%B3%D1%80%D0%B0%D0%B4%D0%B8%D1%98%D0%B5%D0%BD%D1%82%D0%B0\n",
    "\n"
   ]
  },
  {
   "cell_type": "code",
   "execution_count": null,
   "metadata": {},
   "outputs": [],
   "source": []
  }
 ],
 "metadata": {
  "file_extension": ".py",
  "kernelspec": {
   "display_name": "Python 3",
   "language": "python",
   "name": "python3"
  },
  "language_info": {
   "codemirror_mode": {
    "name": "ipython",
    "version": 3
   },
   "file_extension": ".py",
   "mimetype": "text/x-python",
   "name": "python",
   "nbconvert_exporter": "python",
   "pygments_lexer": "ipython3",
   "version": "3.8.1"
  },
  "mimetype": "text/x-python",
  "name": "python",
  "npconvert_exporter": "python",
  "pygments_lexer": "ipython3",
  "version": 3
 },
 "nbformat": 4,
 "nbformat_minor": 2
}
