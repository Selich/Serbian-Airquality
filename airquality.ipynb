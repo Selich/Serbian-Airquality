{
 "cells": [
  {
   "cell_type": "markdown",
   "metadata": {},
   "source": [
    "# Predvidjanje kvaliteta vazduha u periodu od nedelju dana"
   ]
  },
  {
   "cell_type": "markdown",
   "metadata": {},
   "source": [
    "### Potrebne biblioteke:\n",
    "- numpy\n",
    "    - Koristimo za rad nad matricama\n",
    "- pandas\n",
    "    - Omogucava dobru organizaciju podataka i rad sa kljucevima i ostalim obelezijama\n",
    "- requests\n",
    "    - Sluzi za slanje http zahteva koji koristimo za pozivaje API-a\n",
    "- selenium\n",
    "    - Koristi se za automatsko koriscenje internet pretrazivaca\n",
    "- BeautifulSoup\n",
    "    - Omogucava citanje html stranica i izvacenje informacija iz iste"
   ]
  },
  {
   "cell_type": "code",
   "execution_count": 146,
   "metadata": {},
   "outputs": [],
   "source": [
    "!pip install --user beautifulsoup4 selenium numpy pandas \n",
    "import numpy as np\n",
    "import pandas as pd\n",
    "import requests as req\n",
    "from selenium import webdriver\n",
    "from selenium.webdriver.common.keys import Keys\n",
    "from bs4 import BeautifulSoup\n",
    "import urllib.request\n",
    "import time\n",
    "import re\n"
   ]
  },
  {
   "cell_type": "markdown",
   "metadata": {},
   "source": [
    "### Poziv na API radi pribavljanja podataka\n",
    "\n",
    "\n"
   ]
  },
  {
   "cell_type": "code",
   "execution_count": 36,
   "metadata": {},
   "outputs": [],
   "source": [
    "\n",
    "api_key = \"c8055f9d-1fd0-4ad3-ab23-678ee0727b7b\"\n",
    "base_url = \"https://api.airvisual.com/v2\"\n",
    "url_key = \"?key=\" + api_key\n",
    "url = base_url + \"/countries\" + url_key\n",
    "\n",
    "url_nearest_city = base_url + \"/nearest_city\" + url_key\n",
    "\n"
   ]
  },
  {
   "cell_type": "code",
   "execution_count": 37,
   "metadata": {},
   "outputs": [],
   "source": [
    "data = req.get(url)\n",
    "nearest_city = req.get(url_nearest_city)"
   ]
  },
  {
   "cell_type": "code",
   "execution_count": 38,
   "metadata": {},
   "outputs": [
    {
     "data": {
      "text/plain": [
       "{'status': 'success',\n",
       " 'data': {'city': 'Novi Sad',\n",
       "  'state': 'Autonomna Pokrajina Vojvodina',\n",
       "  'country': 'Serbia',\n",
       "  'location': {'type': 'Point', 'coordinates': [19.84119, 45.245065]},\n",
       "  'current': {'weather': {'ts': '2019-11-10T14:00:00.000Z',\n",
       "    'tp': 14,\n",
       "    'pr': 1009,\n",
       "    'hu': 82,\n",
       "    'ws': 3.1,\n",
       "    'wd': 270,\n",
       "    'ic': '10d'},\n",
       "   'pollution': {'ts': '2019-11-10T15:00:00.000Z',\n",
       "    'aqius': 66,\n",
       "    'mainus': 'p2',\n",
       "    'aqicn': 27,\n",
       "    'maincn': 'p2'}}}}"
      ]
     },
     "execution_count": 38,
     "metadata": {},
     "output_type": "execute_result"
    }
   ],
   "source": [
    "nearest_city.json()"
   ]
  },
  {
   "cell_type": "markdown",
   "metadata": {},
   "source": [
    "### Stavljanje podataka u Pandas dataframe\n",
    "- Dobavljanje podataka za lokaciju Liman, Novi Sad sa sajta http://www.sepa.gov.rs/ za period od 30 dana.\n"
   ]
  },
  {
   "cell_type": "code",
   "execution_count": 47,
   "metadata": {},
   "outputs": [
    {
     "name": "stdout",
     "output_type": "stream",
     "text": [
      "Requirement already satisfied: beautifulsoup4 in /usr/lib/python3.7/site-packages (4.8.0)\n",
      "Requirement already satisfied: selenium in /home/selic/.local/lib/python3.7/site-packages (3.141.0)\n",
      "Requirement already satisfied: soupsieve>=1.2 in /usr/lib/python3.7/site-packages (from beautifulsoup4) (1.9.2)\n",
      "Requirement already satisfied: urllib3 in /usr/lib/python3.7/site-packages (from selenium) (1.25.3)\n"
     ]
    }
   ],
   "source": [
    "\n"
   ]
  },
  {
   "cell_type": "markdown",
   "metadata": {},
   "source": [
    "- Scraping podatke sa Sepa"
   ]
  },
  {
   "cell_type": "code",
   "execution_count": 144,
   "metadata": {},
   "outputs": [
    {
     "ename": "ElementNotInteractableException",
     "evalue": "Message: Element <input class=\"komponentecheck\" name=\"komponente[]\" type=\"checkbox\"> could not be scrolled into view\n",
     "output_type": "error",
     "traceback": [
      "\u001b[0;31m---------------------------------------------------------------------------\u001b[0m",
      "\u001b[0;31mElementNotInteractableException\u001b[0m           Traceback (most recent call last)",
      "\u001b[0;32m<ipython-input-144-77dc10e5e2f2>\u001b[0m in \u001b[0;36m<module>\u001b[0;34m\u001b[0m\n\u001b[1;32m     23\u001b[0m \u001b[0mcheck_box\u001b[0m\u001b[0;34m.\u001b[0m\u001b[0mclick\u001b[0m\u001b[0;34m(\u001b[0m\u001b[0;34m)\u001b[0m\u001b[0;34m\u001b[0m\u001b[0;34m\u001b[0m\u001b[0m\n\u001b[1;32m     24\u001b[0m \u001b[0;32mfor\u001b[0m \u001b[0mk\u001b[0m \u001b[0;32min\u001b[0m \u001b[0mkomponente\u001b[0m\u001b[0;34m:\u001b[0m\u001b[0;34m\u001b[0m\u001b[0;34m\u001b[0m\u001b[0m\n\u001b[0;32m---> 25\u001b[0;31m     \u001b[0mdriver\u001b[0m\u001b[0;34m.\u001b[0m\u001b[0mfind_element_by_xpath\u001b[0m\u001b[0;34m(\u001b[0m\u001b[0mk\u001b[0m\u001b[0;34m)\u001b[0m\u001b[0;34m.\u001b[0m\u001b[0mclick\u001b[0m\u001b[0;34m(\u001b[0m\u001b[0;34m)\u001b[0m\u001b[0;34m\u001b[0m\u001b[0;34m\u001b[0m\u001b[0m\n\u001b[0m\u001b[1;32m     26\u001b[0m \u001b[0;34m\u001b[0m\u001b[0m\n\u001b[1;32m     27\u001b[0m \u001b[0;34m\u001b[0m\u001b[0m\n",
      "\u001b[0;32m~/.local/lib/python3.7/site-packages/selenium/webdriver/remote/webelement.py\u001b[0m in \u001b[0;36mclick\u001b[0;34m(self)\u001b[0m\n\u001b[1;32m     78\u001b[0m     \u001b[0;32mdef\u001b[0m \u001b[0mclick\u001b[0m\u001b[0;34m(\u001b[0m\u001b[0mself\u001b[0m\u001b[0;34m)\u001b[0m\u001b[0;34m:\u001b[0m\u001b[0;34m\u001b[0m\u001b[0;34m\u001b[0m\u001b[0m\n\u001b[1;32m     79\u001b[0m         \u001b[0;34m\"\"\"Clicks the element.\"\"\"\u001b[0m\u001b[0;34m\u001b[0m\u001b[0;34m\u001b[0m\u001b[0m\n\u001b[0;32m---> 80\u001b[0;31m         \u001b[0mself\u001b[0m\u001b[0;34m.\u001b[0m\u001b[0m_execute\u001b[0m\u001b[0;34m(\u001b[0m\u001b[0mCommand\u001b[0m\u001b[0;34m.\u001b[0m\u001b[0mCLICK_ELEMENT\u001b[0m\u001b[0;34m)\u001b[0m\u001b[0;34m\u001b[0m\u001b[0;34m\u001b[0m\u001b[0m\n\u001b[0m\u001b[1;32m     81\u001b[0m \u001b[0;34m\u001b[0m\u001b[0m\n\u001b[1;32m     82\u001b[0m     \u001b[0;32mdef\u001b[0m \u001b[0msubmit\u001b[0m\u001b[0;34m(\u001b[0m\u001b[0mself\u001b[0m\u001b[0;34m)\u001b[0m\u001b[0;34m:\u001b[0m\u001b[0;34m\u001b[0m\u001b[0;34m\u001b[0m\u001b[0m\n",
      "\u001b[0;32m~/.local/lib/python3.7/site-packages/selenium/webdriver/remote/webelement.py\u001b[0m in \u001b[0;36m_execute\u001b[0;34m(self, command, params)\u001b[0m\n\u001b[1;32m    631\u001b[0m             \u001b[0mparams\u001b[0m \u001b[0;34m=\u001b[0m \u001b[0;34m{\u001b[0m\u001b[0;34m}\u001b[0m\u001b[0;34m\u001b[0m\u001b[0;34m\u001b[0m\u001b[0m\n\u001b[1;32m    632\u001b[0m         \u001b[0mparams\u001b[0m\u001b[0;34m[\u001b[0m\u001b[0;34m'id'\u001b[0m\u001b[0;34m]\u001b[0m \u001b[0;34m=\u001b[0m \u001b[0mself\u001b[0m\u001b[0;34m.\u001b[0m\u001b[0m_id\u001b[0m\u001b[0;34m\u001b[0m\u001b[0;34m\u001b[0m\u001b[0m\n\u001b[0;32m--> 633\u001b[0;31m         \u001b[0;32mreturn\u001b[0m \u001b[0mself\u001b[0m\u001b[0;34m.\u001b[0m\u001b[0m_parent\u001b[0m\u001b[0;34m.\u001b[0m\u001b[0mexecute\u001b[0m\u001b[0;34m(\u001b[0m\u001b[0mcommand\u001b[0m\u001b[0;34m,\u001b[0m \u001b[0mparams\u001b[0m\u001b[0;34m)\u001b[0m\u001b[0;34m\u001b[0m\u001b[0;34m\u001b[0m\u001b[0m\n\u001b[0m\u001b[1;32m    634\u001b[0m \u001b[0;34m\u001b[0m\u001b[0m\n\u001b[1;32m    635\u001b[0m     \u001b[0;32mdef\u001b[0m \u001b[0mfind_element\u001b[0m\u001b[0;34m(\u001b[0m\u001b[0mself\u001b[0m\u001b[0;34m,\u001b[0m \u001b[0mby\u001b[0m\u001b[0;34m=\u001b[0m\u001b[0mBy\u001b[0m\u001b[0;34m.\u001b[0m\u001b[0mID\u001b[0m\u001b[0;34m,\u001b[0m \u001b[0mvalue\u001b[0m\u001b[0;34m=\u001b[0m\u001b[0;32mNone\u001b[0m\u001b[0;34m)\u001b[0m\u001b[0;34m:\u001b[0m\u001b[0;34m\u001b[0m\u001b[0;34m\u001b[0m\u001b[0m\n",
      "\u001b[0;32m~/.local/lib/python3.7/site-packages/selenium/webdriver/remote/webdriver.py\u001b[0m in \u001b[0;36mexecute\u001b[0;34m(self, driver_command, params)\u001b[0m\n\u001b[1;32m    319\u001b[0m         \u001b[0mresponse\u001b[0m \u001b[0;34m=\u001b[0m \u001b[0mself\u001b[0m\u001b[0;34m.\u001b[0m\u001b[0mcommand_executor\u001b[0m\u001b[0;34m.\u001b[0m\u001b[0mexecute\u001b[0m\u001b[0;34m(\u001b[0m\u001b[0mdriver_command\u001b[0m\u001b[0;34m,\u001b[0m \u001b[0mparams\u001b[0m\u001b[0;34m)\u001b[0m\u001b[0;34m\u001b[0m\u001b[0;34m\u001b[0m\u001b[0m\n\u001b[1;32m    320\u001b[0m         \u001b[0;32mif\u001b[0m \u001b[0mresponse\u001b[0m\u001b[0;34m:\u001b[0m\u001b[0;34m\u001b[0m\u001b[0;34m\u001b[0m\u001b[0m\n\u001b[0;32m--> 321\u001b[0;31m             \u001b[0mself\u001b[0m\u001b[0;34m.\u001b[0m\u001b[0merror_handler\u001b[0m\u001b[0;34m.\u001b[0m\u001b[0mcheck_response\u001b[0m\u001b[0;34m(\u001b[0m\u001b[0mresponse\u001b[0m\u001b[0;34m)\u001b[0m\u001b[0;34m\u001b[0m\u001b[0;34m\u001b[0m\u001b[0m\n\u001b[0m\u001b[1;32m    322\u001b[0m             response['value'] = self._unwrap_value(\n\u001b[1;32m    323\u001b[0m                 response.get('value', None))\n",
      "\u001b[0;32m~/.local/lib/python3.7/site-packages/selenium/webdriver/remote/errorhandler.py\u001b[0m in \u001b[0;36mcheck_response\u001b[0;34m(self, response)\u001b[0m\n\u001b[1;32m    240\u001b[0m                 \u001b[0malert_text\u001b[0m \u001b[0;34m=\u001b[0m \u001b[0mvalue\u001b[0m\u001b[0;34m[\u001b[0m\u001b[0;34m'alert'\u001b[0m\u001b[0;34m]\u001b[0m\u001b[0;34m.\u001b[0m\u001b[0mget\u001b[0m\u001b[0;34m(\u001b[0m\u001b[0;34m'text'\u001b[0m\u001b[0;34m)\u001b[0m\u001b[0;34m\u001b[0m\u001b[0;34m\u001b[0m\u001b[0m\n\u001b[1;32m    241\u001b[0m             \u001b[0;32mraise\u001b[0m \u001b[0mexception_class\u001b[0m\u001b[0;34m(\u001b[0m\u001b[0mmessage\u001b[0m\u001b[0;34m,\u001b[0m \u001b[0mscreen\u001b[0m\u001b[0;34m,\u001b[0m \u001b[0mstacktrace\u001b[0m\u001b[0;34m,\u001b[0m \u001b[0malert_text\u001b[0m\u001b[0;34m)\u001b[0m\u001b[0;34m\u001b[0m\u001b[0;34m\u001b[0m\u001b[0m\n\u001b[0;32m--> 242\u001b[0;31m         \u001b[0;32mraise\u001b[0m \u001b[0mexception_class\u001b[0m\u001b[0;34m(\u001b[0m\u001b[0mmessage\u001b[0m\u001b[0;34m,\u001b[0m \u001b[0mscreen\u001b[0m\u001b[0;34m,\u001b[0m \u001b[0mstacktrace\u001b[0m\u001b[0;34m)\u001b[0m\u001b[0;34m\u001b[0m\u001b[0;34m\u001b[0m\u001b[0m\n\u001b[0m\u001b[1;32m    243\u001b[0m \u001b[0;34m\u001b[0m\u001b[0m\n\u001b[1;32m    244\u001b[0m     \u001b[0;32mdef\u001b[0m \u001b[0m_value_or_default\u001b[0m\u001b[0;34m(\u001b[0m\u001b[0mself\u001b[0m\u001b[0;34m,\u001b[0m \u001b[0mobj\u001b[0m\u001b[0;34m,\u001b[0m \u001b[0mkey\u001b[0m\u001b[0;34m,\u001b[0m \u001b[0mdefault\u001b[0m\u001b[0;34m)\u001b[0m\u001b[0;34m:\u001b[0m\u001b[0;34m\u001b[0m\u001b[0;34m\u001b[0m\u001b[0m\n",
      "\u001b[0;31mElementNotInteractableException\u001b[0m: Message: Element <input class=\"komponentecheck\" name=\"komponente[]\" type=\"checkbox\"> could not be scrolled into view\n"
     ]
    }
   ],
   "source": [
    "amskv_url = \"http://www.amskv.sepa.gov.rs/pregledpodatakazbirni.php\"\n",
    "\n",
    "\n",
    "driver = webdriver.Firefox()\n",
    "driver.get(amskv_url)\n",
    "#formular > div > div.property-browser-left-s > div:nth-child(2) > div > label:nth-child(9) > input\n",
    "\n",
    "check_box = driver.find_element_by_xpath(\"/html/body/div[2]/div[2]/div/div[2]/form/div/div[1]/div[1]/div/label[9]/input\")\n",
    "\n",
    "komponente = [\n",
    "    \"/html/body/div[2]/div[2]/div/div[2]/form/div/div[1]/div[2]/div[1]/label[1]/input\",\n",
    "    \"/html/body/div[2]/div[2]/div/div[2]/form/div/div[1]/div[2]/div[1]/label[3]/input\",\n",
    "    \"/html/body/div[2]/div[2]/div/div[2]/form/div/div[1]/div[2]/div[1]/label[4]/input\",\n",
    "    \"/html/body/div[2]/div[2]/div/div[2]/form/div/div[1]/div[2]/div[1]/label[5]/input\",\n",
    "    \"/html/body/div[2]/div[2]/div/div[2]/form/div/div[1]/div[2]/div[1]/label[6]/input\",\n",
    "    \"/html/body/div[2]/div[2]/div/div[2]/form/div/div[1]/div[2]/div[1]/label[12]/input\",\n",
    "    \"/html/body/div[2]/div[2]/div/div[2]/form/div/div[1]/div[2]/div[1]/label[35]/input\",\n",
    "    \"/html/body/div[2]/div[2]/div/div[2]/form/div/div[1]/div[2]/div[1]/label[36]/input\",\n",
    "    \"/html/body/div[2]/div[2]/div/div[2]/form/div/div[1]/div[2]/div[1]/label[37]/input\",\n",
    "    \"/html/body/div[2]/div[2]/div/div[2]/form/div/div[1]/div[2]/div[1]/label[38]/input\",\n",
    "    \"/html/body/div[2]/div[2]/div/div[2]/form/div/div[1]/div[2]/div[1]/label[39]/input\"\n",
    "]\n",
    "check_box.click()\n",
    "for k in komponente:\n",
    "    driver.find_element_by_xpath(k).click()\n",
    "\n",
    "\n",
    "\n",
    "\n",
    "prikazi = driver.find_element_by_xpath(\"/html/body/div[2]/div[2]/div/div[2]/form/div/div[1]/div[2]/a\").click()\n",
    "\n",
    "\n",
    "trideset_dana = driver.find_element_by_xpath(\"/html/body/div[2]/div[2]/div/div[2]/form/div/div[2]/div/div/div/div[1]/div/div[1]/label[3]\").click()\n",
    "\n",
    "\n",
    "\n",
    "prikazi = driver.find_element_by_xpath(\"/html/body/div[2]/div[2]/div/div[2]/form/div/div[1]/div[2]/a\").click()\n",
    "\n",
    "\n",
    "driver.find_element_by_xpath(\"/html/body/div[2]/div[2]/div/div[2]/form/div/div[2]/div/div/ul/li[2]/a\").click()\n"
   ]
  },
  {
   "cell_type": "code",
   "execution_count": 0,
   "metadata": {},
   "outputs": [],
   "source": [
    "def get_row_data(row,item):\n",
    "    row_url = \"/html/body/div[2]/div[2]/div/div[2]/form/div/div[2]/div/div/div/div[2]/div/table/tbody/tr[\" + row + \"]/td[\" + item + \"]\"\n",
    "    item = driver.find_element_by_xpath(row_url)\n",
    "    return item"
   ]
  },
  {
   "cell_type": "code",
   "execution_count": 0,
   "metadata": {},
   "outputs": [],
   "source": [
    "\n",
    "\n",
    "def populate_with_labels(driver):\n",
    "\n",
    "    labels = []\n",
    "    for i in range(1,12):\n",
    "        label = driver.find_element_by_xpath(\"/html/body/div[2]/div[2]/div/div[2]/form/div/div[2]/div/div/div/div[2]/div/table/thead/tr/th[\"+str(i)+\"]\")\n",
    "        data = label.text\n",
    "        data = data.replace(\"\\nNovi Sad Liman\", \"\")\n",
    "        labels.append(data)\n",
    "\n",
    "    return labels\n",
    "\n",
    "def get_table_data(driver,df):\n",
    "    for i in range(1,720):\n",
    "        arr = []\n",
    "        for j in range(1,12):\n",
    "            data = driver.find_element_by_xpath(\"/html/body/div[2]/div[2]/div/div[2]/form/div/div[2]/div/div/div/div[2]/div/table/tbody/tr[\"+str(i)+\"]/td[\"+str(j)+\"]\")\n",
    "            arr.append(data.text)\n",
    "            print(data)\n",
    "        df.append(arr)\n",
    "\n",
    "    return df\n",
    "\n",
    "\n",
    "\n"
   ]
  },
  {
   "cell_type": "code",
   "execution_count": 0,
   "metadata": {},
   "outputs": [],
   "source": [
    "labels = populate_with_labels(driver)\n",
    "\n",
    "df = pd.DataFrame(columns=labels)\n",
    "data = get_table_data(driver,df)\n",
    "df.head()\n",
    "data\n"
   ]
  },
  {
   "cell_type": "markdown",
   "metadata": {},
   "source": [
    "\n",
    "## Linearna regresija\n",
    "Linearna regresija (Linear Regression) je jedna od najpoznatijih metoda nadgledanog učenja\n",
    "Za početak bavićemo se prostom linearnom regresijom (simple LR, univariate LR)\n",
    "Imamo jednu ulaznu promenljivu (feature) i jednu izlaznu promenljivu\n",
    "- Notacija:\n",
    "    - $x$: Ulazni podaci (features), $x^{(i)}$: Ulazni podatak iz i-tog trening primera\n",
    "    - $y$: Izlazni podaci (labels), $y^{(i)}$: Izlazni podatak iz i-tog trening primera\n",
    "    - $m$: Veličina trening skupa - broj semplova\n",
    "- Hipoteza (model): $ h_\\theta(x) = \\theta_0 + \\theta_1 x $\n",
    "    - Linearna funkcija\n",
    "    - \"Učimo\" parametre $\\theta_0$ i $\\theta_1$, tj. modifikujemo ih tako da budu \"što bolji\"\n",
    "- Funkcija troška (kriterijumska funkcija, funkcija koštanja, cost function, loss function)\n",
    "    - U ovom slučaju za funkciju troška uzimamo MSE (srednje kvadratno odstupanje, mean squared error)\n",
    "    - $J(\\theta_0, \\theta_1) = \\frac{1}{m} \\sum\\limits_{i=1}^{m} (h_\\theta(x^{(i)} - y^{(i)})^2$ (nekada $\\frac{1}{2m}$ zbog lepšeg izvoda)\n",
    "    - Dakle, menjamo $\\theta_0$ i $\\theta_1$ tako da minimizujemo funkciju troška, kako?\n",
    "- Optimizacija: gradijentni spust (gradient descent): iterativni optimizacioni metod za minimizaciju funkcije\n",
    "- Određuje u kom smeru treba da se krećemo da što efikasnije poboljšamo vrednosti parametara, varijante:\n",
    "    - Stochastic: Računamo funkciju troška za svaki trening primer i ažuriramo parametre jednom po primeru\n",
    "    - Batch: Agregiramo funkciju troška za sve primere u trening skupu i ažuriramo parametre jednom za ceo skup\n",
    "    - Minibatch: Delimo trening skup na manje skupove (batches) fiksne veličine, i nad njima agregiramo funkciju troška, jedno ažuriranje parametara po batch-u"
   ]
  },
  {
   "cell_type": "code",
   "execution_count": null,
   "metadata": {},
   "outputs": [],
   "source": []
  }
 ],
 "metadata": {
  "file_extension": ".py",
  "kernelspec": {
   "display_name": "Python 3",
   "language": "python",
   "name": "python3"
  },
  "language_info": {
   "codemirror_mode": {
    "name": "ipython",
    "version": 3
   },
   "file_extension": ".py",
   "mimetype": "text/x-python",
   "name": "python",
   "nbconvert_exporter": "python",
   "pygments_lexer": "ipython3",
   "version": "3.8.1"
  },
  "mimetype": "text/x-python",
  "name": "python",
  "npconvert_exporter": "python",
  "pygments_lexer": "ipython3",
  "version": 3
 },
 "nbformat": 4,
 "nbformat_minor": 2
}
