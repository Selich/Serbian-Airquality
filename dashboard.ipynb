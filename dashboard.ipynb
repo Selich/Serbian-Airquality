{
 "cells": [
  {
   "cell_type": "code",
   "execution_count": 1,
   "metadata": {},
   "outputs": [],
   "source": [
    "import pandas as pd\n",
    "import matplotlib.pyplot as plt\n",
    "import panel as pn\n",
    "from sklearn.model_selection import train_test_split\n",
    "from algorithms.Regression import Regression\n",
    "from util.data_processing import *\n"
   ]
  },
  {
   "cell_type": "code",
   "execution_count": 2,
   "metadata": {
    "pycharm": {
     "name": "#%%\n"
    }
   },
   "outputs": [
    {
     "data": {
      "text/html": [
       "<div>\n",
       "<style scoped>\n",
       "    .dataframe tbody tr th:only-of-type {\n",
       "        vertical-align: middle;\n",
       "    }\n",
       "\n",
       "    .dataframe tbody tr th {\n",
       "        vertical-align: top;\n",
       "    }\n",
       "\n",
       "    .dataframe thead th {\n",
       "        text-align: right;\n",
       "    }\n",
       "</style>\n",
       "<table border=\"1\" class=\"dataframe\">\n",
       "  <thead>\n",
       "    <tr style=\"text-align: right;\">\n",
       "      <th></th>\n",
       "      <th>Vreme</th>\n",
       "      <th>PM10 [ug.m-3]</th>\n",
       "      <th>O3 [ug.m-3]</th>\n",
       "      <th>NO2 [ug.m-3]</th>\n",
       "      <th>NOX [ug.m-3]</th>\n",
       "      <th>CO [mg.m-3]</th>\n",
       "      <th>NO [ug.m-3]</th>\n",
       "      <th>PM2.5 [ug.m-3]</th>\n",
       "      <th>PM1 [ug.m-3]</th>\n",
       "      <th>V [m/s]</th>\n",
       "      <th>dd [°]</th>\n",
       "      <th>P [mb]</th>\n",
       "      <th>t [°C]</th>\n",
       "      <th>Rh [%]</th>\n",
       "    </tr>\n",
       "  </thead>\n",
       "  <tbody>\n",
       "    <tr>\n",
       "      <th>0</th>\n",
       "      <td>2019-11-03 17:00:00</td>\n",
       "      <td>21.66</td>\n",
       "      <td>35.36</td>\n",
       "      <td>21.23</td>\n",
       "      <td>31.44</td>\n",
       "      <td>0.30</td>\n",
       "      <td>6.67</td>\n",
       "      <td>17.04</td>\n",
       "      <td>16.13</td>\n",
       "      <td>2.01</td>\n",
       "      <td>224.93</td>\n",
       "      <td>992.87</td>\n",
       "      <td>20.16</td>\n",
       "      <td>55.64</td>\n",
       "    </tr>\n",
       "    <tr>\n",
       "      <th>1</th>\n",
       "      <td>2019-11-03 18:00:00</td>\n",
       "      <td>24.14</td>\n",
       "      <td>33.42</td>\n",
       "      <td>22.74</td>\n",
       "      <td>34.53</td>\n",
       "      <td>0.30</td>\n",
       "      <td>7.65</td>\n",
       "      <td>18.15</td>\n",
       "      <td>16.87</td>\n",
       "      <td>1.83</td>\n",
       "      <td>229.53</td>\n",
       "      <td>992.72</td>\n",
       "      <td>19.87</td>\n",
       "      <td>56.26</td>\n",
       "    </tr>\n",
       "    <tr>\n",
       "      <th>2</th>\n",
       "      <td>2019-11-03 19:00:00</td>\n",
       "      <td>24.20</td>\n",
       "      <td>34.39</td>\n",
       "      <td>22.95</td>\n",
       "      <td>34.00</td>\n",
       "      <td>0.32</td>\n",
       "      <td>7.25</td>\n",
       "      <td>17.91</td>\n",
       "      <td>16.56</td>\n",
       "      <td>2.17</td>\n",
       "      <td>227.10</td>\n",
       "      <td>992.13</td>\n",
       "      <td>19.70</td>\n",
       "      <td>56.96</td>\n",
       "    </tr>\n",
       "    <tr>\n",
       "      <th>3</th>\n",
       "      <td>2019-11-03 20:00:00</td>\n",
       "      <td>22.06</td>\n",
       "      <td>36.53</td>\n",
       "      <td>19.88</td>\n",
       "      <td>29.92</td>\n",
       "      <td>0.35</td>\n",
       "      <td>6.54</td>\n",
       "      <td>16.34</td>\n",
       "      <td>15.48</td>\n",
       "      <td>1.85</td>\n",
       "      <td>230.43</td>\n",
       "      <td>992.12</td>\n",
       "      <td>19.65</td>\n",
       "      <td>57.00</td>\n",
       "    </tr>\n",
       "    <tr>\n",
       "      <th>4</th>\n",
       "      <td>2019-11-03 21:00:00</td>\n",
       "      <td>22.16</td>\n",
       "      <td>38.23</td>\n",
       "      <td>16.79</td>\n",
       "      <td>25.34</td>\n",
       "      <td>0.30</td>\n",
       "      <td>5.58</td>\n",
       "      <td>17.41</td>\n",
       "      <td>15.95</td>\n",
       "      <td>1.83</td>\n",
       "      <td>228.89</td>\n",
       "      <td>991.99</td>\n",
       "      <td>19.30</td>\n",
       "      <td>58.04</td>\n",
       "    </tr>\n",
       "  </tbody>\n",
       "</table>\n",
       "</div>"
      ],
      "text/plain": [
       "                 Vreme  PM10 [ug.m-3]  O3 [ug.m-3]  NO2 [ug.m-3]  \\\n",
       "0  2019-11-03 17:00:00          21.66        35.36         21.23   \n",
       "1  2019-11-03 18:00:00          24.14        33.42         22.74   \n",
       "2  2019-11-03 19:00:00          24.20        34.39         22.95   \n",
       "3  2019-11-03 20:00:00          22.06        36.53         19.88   \n",
       "4  2019-11-03 21:00:00          22.16        38.23         16.79   \n",
       "\n",
       "   NOX [ug.m-3]  CO [mg.m-3]  NO [ug.m-3]  PM2.5 [ug.m-3]  PM1 [ug.m-3]  \\\n",
       "0         31.44         0.30         6.67           17.04         16.13   \n",
       "1         34.53         0.30         7.65           18.15         16.87   \n",
       "2         34.00         0.32         7.25           17.91         16.56   \n",
       "3         29.92         0.35         6.54           16.34         15.48   \n",
       "4         25.34         0.30         5.58           17.41         15.95   \n",
       "\n",
       "   V [m/s]  dd [°]  P [mb]  t [°C]  Rh [%]  \n",
       "0     2.01  224.93  992.87   20.16   55.64  \n",
       "1     1.83  229.53  992.72   19.87   56.26  \n",
       "2     2.17  227.10  992.13   19.70   56.96  \n",
       "3     1.85  230.43  992.12   19.65   57.00  \n",
       "4     1.83  228.89  991.99   19.30   58.04  "
      ]
     },
     "execution_count": 2,
     "metadata": {},
     "output_type": "execute_result"
    }
   ],
   "source": [
    "data = read_data(\"beograd\")\n",
    "data.head()"
   ]
  },
  {
   "cell_type": "code",
   "execution_count": 3,
   "metadata": {},
   "outputs": [
    {
     "data": {
      "text/plain": [
       "[<matplotlib.lines.Line2D at 0x7f6ef1196fa0>]"
      ]
     },
     "execution_count": 3,
     "metadata": {},
     "output_type": "execute_result"
    },
    {
     "data": {
      "image/png": "[encoded data removed]",
      "text/plain": [
       "<Figure size 432x288 with 1 Axes>"
      ]
     },
     "metadata": {
      "needs_background": "light"
     },
     "output_type": "display_data"
    }
   ],
   "source": [
    "x = data[\"Vreme\"].tail()\n",
    "y = data[\"CO [mg.m-3]\"].tail()\n",
    "\n",
    "plt.plot(x,y)"
   ]
  },
  {
   "cell_type": "code",
   "execution_count": null,
   "metadata": {},
   "outputs": [],
   "source": []
  },
  {
   "cell_type": "code",
   "execution_count": 6,
   "metadata": {},
   "outputs": [],
   "source": [
    "x = data[\"Vreme\"].values\n",
    "x = np.linspace(0, len(x), len(x))\n",
    "y = data[\"CO [mg.m-3]\"].ffill(axis=0).values\n",
    "x_train, x_test, y_train, y_test = train_test_split(x, y)"
   ]
  },
  {
   "cell_type": "code",
   "execution_count": null,
   "metadata": {},
   "outputs": [],
   "source": [
    "model = Regression(1.)\n",
    "model.fit(x_train, y_train, \"ridge\")\n",
    "b, a = model.w\n",
    "plt.scatter(x, y, color=\"g\")\n",
    "plt.plot([0, x_train.max()], [b, b + a * x_train.max()], color=\"k\")\n",
    "plt.plot([x_train[0], x_test.max()], [b, b + a * x_test.max()], color=\"r\")\n",
    "plt.show()\n"
   ]
  }
 ],
 "metadata": {
  "kernelspec": {
   "display_name": "Python 3",
   "language": "python",
   "name": "python3"
  },
  "language_info": {
   "codemirror_mode": {
    "name": "ipython",
    "version": 3
   },
   "file_extension": ".py",
   "mimetype": "text/x-python",
   "name": "python",
   "nbconvert_exporter": "python",
   "pygments_lexer": "ipython3",
   "version": "3.8.0"
  },
  "pycharm": {
   "stem_cell": {
    "cell_type": "raw",
    "metadata": {
     "collapsed": false
    },
    "source": []
   }
  }
 },
 "nbformat": 4,
 "nbformat_minor": 1
}
