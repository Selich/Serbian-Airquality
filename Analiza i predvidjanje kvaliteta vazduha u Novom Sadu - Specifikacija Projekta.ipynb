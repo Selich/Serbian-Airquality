{
 "cells": [
  {
   "cell_type": "markdown",
   "metadata": {},
   "source": [
    "# Analiza i predvidjanje kvaliteta vazduha u Novom Sadu\n",
    "**Autor**: *Nikola Selić IN-43-2017*"
   ]
  },
  {
   "cell_type": "markdown",
   "metadata": {},
   "source": [
    "## Motivacija\n",
    "Srbija, konkretno Beograd, je bio medju prvima, a kasnije i prvi, na listi zagadjenosti vezduha na svetu https://www.airvisual.com/world-air-quality-ranking. Podatak jeste zabrinjavajuć i, samim tim, glavna motivacija ovog rada je jedan od načina kako se može reagovati na tu pojavu. Agregirajući zvanične podatke o kvalitetu vazduha kao i vrste štetnih gasova u našoj atmosferi bi za cilj trebalo da informiše šire javne mase o opasnosti i štetnosti koje ti gasovi izazivaju.\n",
    "(https://i.redd.it/g7c4hmz73vu31.jpg)"
   ]
  },
  {
   "cell_type": "markdown",
   "metadata": {},
   "source": [
    "## Cilj\n",
    "Glavna tema ovog projekta je predvidjanje kvaliteta vazduha u atmosferi koristeci podatke iz meteoroloskih stanica Srbije. Konkretno, koristimo podatke za Liman, Novi Sad. Obradjujemo sledeće faktore kvaliteta vazduha:\n",
    "-   CO\n",
    "-   SO2\n",
    "-   O3\n",
    "-   NO2\n",
    "-   NOX\n",
    "-   NO\n"
   ]
  },
  {
   "cell_type": "markdown",
   "metadata": {},
   "source": [
    "## Hipoteza\n",
    "Zato što postoji trend izmedju vremena (24 sata) i koncentracije CO i ostalih štetnih gasova, mozemo pretpostaviti buduću vrednost emisije gasova u periodu od jednog dana."
   ]
  },
  {
   "cell_type": "markdown",
   "metadata": {},
   "source": [
    "## Algoritmi\n",
    "Algoritmi koji bi se koristili u implementaciji projekta su:\n",
    "\n",
    "#### Odredjivanje AQI (Air Quality Index)\n",
    "AQI je medjunarodni stantard za koeficijent kvaliteta vazduha. Izracunava se pomoću formule:\n",
    "\n",
    "$ I = \\frac{(I_{high} - I_{low}) * (C - C_{low})}{C_{high} - C_{low}} + I_{low} $\n",
    "\n",
    "Gde je:\n",
    "-   $I$ - Indeks kvaliteta vazduha\n",
    "-   $C$ - Trenutna koncentracija zagadjivača\n",
    "-   $C_{low} $- Donja dozvoljena granica koncentracije čestica u vremenskom periodu$*$\n",
    "-   $C_{high} $- Gornja dozvoljena granica koncentracije čestica u vremenskom periodu$*$\n",
    "-   $I_{low} $- Donja dozvoljena granica AQI\n",
    "-   $I_{high} $-  Gornja dozvoljena granica AQI  \n",
    "\n",
    "\n",
    "$*$ Vremenski period zavisi kod konkretne čestice.\n",
    "\n",
    "\n",
    "\n",
    "Tabela svih vrednosti kao i kategorizacija stepena zagadjenosti vazduha prikazuje više detalja.\n",
    "\n",
    "\n",
    "<table class=\"wikitable\" style=\"text-align:left;\">\n",
    "<tbody><tr>\n",
    "<td><b><a href=\"/wiki/Ozone\" title=\"Ozone\">O<sub>3</sub></a> (ppb)</b></td>\n",
    "<td><b><a href=\"/wiki/Ozone\" title=\"Ozone\">O<sub>3</sub></a> (ppb)</b></td>\n",
    "<td><b><a href=\"/wiki/Particulates\" title=\"Particulates\">PM<sub>2.5</sub></a> (μg/m<sup>3</sup>)</b></td>\n",
    "<td><b><a href=\"/wiki/Particulates\" title=\"Particulates\">PM<sub>10</sub></a> (μg/m<sup>3</sup>)</b></td>\n",
    "<td><b><a href=\"/wiki/Carbon_monoxide\" title=\"Carbon monoxide\">CO</a> (ppm)</b></td>\n",
    "<td><b><a href=\"/wiki/Sulfur_dioxide\" title=\"Sulfur dioxide\">SO<sub>2</sub></a> (ppb)</b></td>\n",
    "<td><b><a href=\"/wiki/Nitrogen_dioxide\" title=\"Nitrogen dioxide\">NO<sub>2</sub></a> (ppb)</b></td>\n",
    "<td><b>AQI</b></td>\n",
    "<td><b>AQI</b>\n",
    "</td></tr>\n",
    "<tr>\n",
    "<td><i>C<sub>low</sub></i> - <i>C<sub>high</sub> (avg)</i></td>\n",
    "<td><i>C<sub>low</sub></i> - <i>C<sub>high</sub> (avg)</i></td>\n",
    "<td><i>C<sub>low</sub></i>- <i>C<sub>high</sub> (avg)</i></td>\n",
    "<td><i>C<sub>low</sub></i> - <i>C<sub>high</sub> (avg)</i></td>\n",
    "<td><i>C<sub>low</sub></i> - <i>C<sub>high</sub> (avg)</i></td>\n",
    "<td><i>C<sub>low</sub></i> - <i>C<sub>high</sub> (avg)</i></td>\n",
    "<td><i>C<sub>low</sub></i> - <i>C<sub>high</sub> (avg)</i></td>\n",
    "<td><i>I<sub>low</sub></i> - <i>I<sub>high</sub></i></td>\n",
    "<td><b>Category</b>\n",
    "</td></tr>\n",
    "<tr>\n",
    "<td>0-54 (8-hr)</td>\n",
    "<td>-</td>\n",
    "<td>0.0-12.0 (24-hr)</td>\n",
    "<td>0-54 (24-hr)</td>\n",
    "<td>0.0-4.4 (8-hr)</td>\n",
    "<td>0-35 (1-hr)</td>\n",
    "<td>0-53 (1-hr)</td>\n",
    "<td>0-50</td>\n",
    "<td style=\"background:#00e400;\">Good\n",
    "</td></tr>\n",
    "<tr>\n",
    "<td>55-70 (8-hr)</td>\n",
    "<td>-</td>\n",
    "<td>12.1-35.4 (24-hr)</td>\n",
    "<td>55-154 (24-hr)</td>\n",
    "<td>4.5-9.4 (8-hr)</td>\n",
    "<td>36-75  (1-hr)</td>\n",
    "<td>54-100 (1-hr)</td>\n",
    "<td>51-100</td>\n",
    "<td style=\"background:#ff0;\">Moderate\n",
    "</td></tr>\n",
    "<tr>\n",
    "<td>71-85 (8-hr)</td>\n",
    "<td>125-164 (1-hr)</td>\n",
    "<td>35.5-55.4 (24-hr)</td>\n",
    "<td>155-254  (24-hr)</td>\n",
    "<td>9.5-12.4 (8-hr)</td>\n",
    "<td>76-185  (1-hr)</td>\n",
    "<td>101-360 (1-hr)</td>\n",
    "<td>101-150</td>\n",
    "<td style=\"background:#ff7e00;\">Unhealthy for Sensitive Groups\n",
    "</td></tr>\n",
    "<tr>\n",
    "<td>86-105 (8-hr)</td>\n",
    "<td>165-204 (1-hr)</td>\n",
    "<td>55.5-150.4  (24-hr)</td>\n",
    "<td>255-354  (24-hr)</td>\n",
    "<td>12.5-15.4 (8-hr)</td>\n",
    "<td>186-304 (1-hr)</td>\n",
    "<td>361-649 (1-hr)</td>\n",
    "<td>151-200</td>\n",
    "<td style=\"background:#f00; color:#fff;\">Unhealthy\n",
    "</td></tr>\n",
    "<tr>\n",
    "<td>106-200 (8-hr)</td>\n",
    "<td>205-404 (1-hr)</td>\n",
    "<td>150.5-250.4  (24-hr)</td>\n",
    "<td>355-424 (24-hr)</td>\n",
    "<td>15.5-30.4 (8-hr)</td>\n",
    "<td>305-604 (24-hr)</td>\n",
    "<td>650-1249 (1-hr)</td>\n",
    "<td>201-300</td>\n",
    "<td style=\"background:#99004c; color:#fff;\">Very Unhealthy\n",
    "</td></tr>\n",
    "<tr>\n",
    "<td>-</td>\n",
    "<td>405-504 (1-hr)</td>\n",
    "<td>250.5-350.4  (24-hr)</td>\n",
    "<td>425-504  (24-hr)</td>\n",
    "<td>30.5-40.4 (8-hr)</td>\n",
    "<td>605-804 (24-hr)</td>\n",
    "<td>1250-1649 (1-hr)</td>\n",
    "<td>301-400</td>\n",
    "<td style=\"background:#7e0023; color:#fff;\" rowspan=\"2\">Hazardous\n",
    "</td></tr>\n",
    "<tr>\n",
    "<td>-</td>\n",
    "<td>505-604 (1-hr)</td>\n",
    "<td>350.5-500.4 (24-hr)</td>\n",
    "<td>505-604  (24-hr)</td>\n",
    "<td>40.5-50.4 (8-hr)</td>\n",
    "<td>805-1004 (24-hr)</td>\n",
    "<td>1650-2049 (1-hr)</td>\n",
    "<td>401-500\n",
    "</td></tr></tbody></table>\n",
    "\n",
    "\n",
    "\n",
    "#### Multivarijabilna Linearna Regresija\n",
    "Multivariajilna linearna regresija se koristi kada imamo više promenljivih ili (eng. features) koje trebamo uzimati u obzir. Naša funkcija hipoteze se može napisati kao:\n",
    "\n",
    "$ h_\\theta(x) = \\theta_0 + \\sum\\limits_{i=1}^{m} \\theta_ix_i$\n",
    "\n",
    "Odavde, možemo rešiti jednačinu pomoću algoritma opadajućeg gradijenta (eng. Gradient Descent)\n",
    "\n",
    "#### Mutivarijabilni algoritam opadajuceg gradijenta\n",
    "Multivarijabilni kriterijum optimalnosti je sličan kao i univarijabilni:\n",
    "\n",
    "$J(\\overrightarrow{\\theta}) = \\frac{1}{m} \\sum\\limits_{i=1}^{m} (h_\\theta(x^{(i)}) - y^{(i)})^2$ (nekada $\\frac{1}{2m}$ zbog lepšeg izvoda)\n",
    "\n",
    "\n",
    "#### L2 regularizacija (LSE) - Kao procena greške\n",
    "\n",
    "Koristićemo kao funkciju za procenu greške. Minimizira sumu kvadrata razlike tačne vrednosti $y_i$ i procenjene vrednosti $\\hat{y_i}$.\n",
    "\n",
    "$ S=\\sum_{i=1}^{n}\\left(y_{i}-\\hat{y_i}\\right)^{2} $\n",
    "\n",
    "Za razliku od L1 regularizacije, L2 garantuje konvergenciju.\n"
   ]
  },
  {
   "cell_type": "markdown",
   "metadata": {},
   "source": [
    "## Alati\n",
    "Za izgradnju projekta tj. analizu podataka i implementaciju regresije u svrsi saznavanja budućih vrednosti, koristi se **Python** programski jezik,ili konkretnije, **Jupyter Notebook** okruženje.\n",
    "\n",
    "Ostali alati i biblioteke koji su korisćeni su:\n",
    "- numpy\n",
    "    - Koristimo za rad nad matricama\n",
    "- pandas\n",
    "    - Omogucava dobru organizaciju podataka i rad sa ključevima kao i ostalim obeležijama\n",
    "- requests\n",
    "    - Služi za slanje http zahteva koji koristimo za pozivaje API-a\n",
    "- selenium\n",
    "    - Koristi se za automatsko korišćenje internet pretraživaca\n",
    "- BeautifulSoup\n",
    "    - Omogućava čitanje html stranica i izvlačenja informacija iz iste"
   ]
  },
  {
   "cell_type": "markdown",
   "metadata": {},
   "source": [
    "## Podaci\n",
    "\n",
    "#### Podaci sa AMSKV\n",
    "Podaci su pribavljeni sa zvaničnog sajta Ministarstva zaštite životne sredine - Agencija za zaštitu životne sredine - [http://www.amskv.sepa.gov.rs/](http://www.amskv.sepa.gov.rs/).\n",
    "\n",
    "Agencija za zaštitu životne sredine nema API ili drugi način pribavljanja podataka u nekom formatu, tako da za regionalne podatke moramo koristiti tehniku automatskog pribavljanja podataka (eng. web scraping).\n",
    "\n",
    "Podaci postoje zasebno i njihovo spajanje ćemo prikazati u samom predlogu.\n",
    "\n",
    "Sav kod pribavljanja i čiscenja podataka se nalazi u [data_scripting.py](https://github.com/Selich/Serbian-Airquality/blob/master/data_scraping.py)"
   ]
  },
  {
   "cell_type": "markdown",
   "metadata": {},
   "source": [
    "Prikaz prikupljenih meteoroloških podataka"
   ]
  },
  {
   "cell_type": "code",
   "execution_count": 57,
   "metadata": {},
   "outputs": [
    {
     "data": {
      "text/html": [
       "<div>\n",
       "<style scoped>\n",
       "    .dataframe tbody tr th:only-of-type {\n",
       "        vertical-align: middle;\n",
       "    }\n",
       "\n",
       "    .dataframe tbody tr th {\n",
       "        vertical-align: top;\n",
       "    }\n",
       "\n",
       "    .dataframe thead th {\n",
       "        text-align: right;\n",
       "    }\n",
       "</style>\n",
       "<table border=\"1\" class=\"dataframe\">\n",
       "  <thead>\n",
       "    <tr style=\"text-align: right;\">\n",
       "      <th></th>\n",
       "      <th>Vreme</th>\n",
       "      <th>V [m/s]</th>\n",
       "      <th>dd [°]</th>\n",
       "      <th>P [mb]</th>\n",
       "      <th>t [°C]</th>\n",
       "    </tr>\n",
       "  </thead>\n",
       "  <tbody>\n",
       "    <tr>\n",
       "      <th>0</th>\n",
       "      <td>2019-10-12 17:00:00</td>\n",
       "      <td>0.42</td>\n",
       "      <td>115.59</td>\n",
       "      <td>1015.67</td>\n",
       "      <td>22.81</td>\n",
       "    </tr>\n",
       "    <tr>\n",
       "      <th>1</th>\n",
       "      <td>2019-10-12 18:00:00</td>\n",
       "      <td>0.91</td>\n",
       "      <td>131.52</td>\n",
       "      <td>1015.93</td>\n",
       "      <td>19.13</td>\n",
       "    </tr>\n",
       "    <tr>\n",
       "      <th>2</th>\n",
       "      <td>2019-10-12 19:00:00</td>\n",
       "      <td>0.95</td>\n",
       "      <td>131.06</td>\n",
       "      <td>1016.32</td>\n",
       "      <td>17.23</td>\n",
       "    </tr>\n",
       "    <tr>\n",
       "      <th>3</th>\n",
       "      <td>2019-10-12 20:00:00</td>\n",
       "      <td>0.99</td>\n",
       "      <td>137.33</td>\n",
       "      <td>1016.57</td>\n",
       "      <td>16.24</td>\n",
       "    </tr>\n",
       "    <tr>\n",
       "      <th>4</th>\n",
       "      <td>2019-10-12 21:00:00</td>\n",
       "      <td>0.86</td>\n",
       "      <td>136.70</td>\n",
       "      <td>1016.87</td>\n",
       "      <td>15.72</td>\n",
       "    </tr>\n",
       "  </tbody>\n",
       "</table>\n",
       "</div>"
      ],
      "text/plain": [
       "                 Vreme  V [m/s]  dd [°]   P [mb]  t [°C]\n",
       "0  2019-10-12 17:00:00     0.42  115.59  1015.67   22.81\n",
       "1  2019-10-12 18:00:00     0.91  131.52  1015.93   19.13\n",
       "2  2019-10-12 19:00:00     0.95  131.06  1016.32   17.23\n",
       "3  2019-10-12 20:00:00     0.99  137.33  1016.57   16.24\n",
       "4  2019-10-12 21:00:00     0.86  136.70  1016.87   15.72"
      ]
     },
     "execution_count": 57,
     "metadata": {},
     "output_type": "execute_result"
    }
   ],
   "source": [
    "import pandas as pd\n",
    "\n",
    "df_vreme = pd.read_csv(\"./data/amskv_vreme.csv\")\n",
    "df_vreme = df_vreme.drop(labels=[\"Unnamed: 0\"], axis=1)\n",
    "df_vreme.head()"
   ]
  },
  {
   "cell_type": "markdown",
   "metadata": {},
   "source": [
    "Prikaz prikupljenih podataka vezanih za kvalitet vazduha"
   ]
  },
  {
   "cell_type": "code",
   "execution_count": 37,
   "metadata": {},
   "outputs": [
    {
     "data": {
      "text/html": [
       "<div>\n",
       "<style scoped>\n",
       "    .dataframe tbody tr th:only-of-type {\n",
       "        vertical-align: middle;\n",
       "    }\n",
       "\n",
       "    .dataframe tbody tr th {\n",
       "        vertical-align: top;\n",
       "    }\n",
       "\n",
       "    .dataframe thead th {\n",
       "        text-align: right;\n",
       "    }\n",
       "</style>\n",
       "<table border=\"1\" class=\"dataframe\">\n",
       "  <thead>\n",
       "    <tr style=\"text-align: right;\">\n",
       "      <th></th>\n",
       "      <th>Vreme</th>\n",
       "      <th>SO2 [ug.m-3]</th>\n",
       "      <th>O3 [ug.m-3]</th>\n",
       "      <th>NO2 [ug.m-3]</th>\n",
       "      <th>NOX [ug.m-3]</th>\n",
       "      <th>CO [mg.m-3]</th>\n",
       "      <th>NO [ug.m-3]</th>\n",
       "    </tr>\n",
       "  </thead>\n",
       "  <tbody>\n",
       "    <tr>\n",
       "      <th>0</th>\n",
       "      <td>2019-10-12 17:00:00</td>\n",
       "      <td>20.78</td>\n",
       "      <td>48.59</td>\n",
       "      <td>21.68</td>\n",
       "      <td>28.16</td>\n",
       "      <td>0.34</td>\n",
       "      <td>4.16</td>\n",
       "    </tr>\n",
       "    <tr>\n",
       "      <th>1</th>\n",
       "      <td>2019-10-12 18:00:00</td>\n",
       "      <td>14.82</td>\n",
       "      <td>35.95</td>\n",
       "      <td>23.31</td>\n",
       "      <td>29.73</td>\n",
       "      <td>0.36</td>\n",
       "      <td>4.22</td>\n",
       "    </tr>\n",
       "    <tr>\n",
       "      <th>2</th>\n",
       "      <td>2019-10-12 19:00:00</td>\n",
       "      <td>12.47</td>\n",
       "      <td>40.89</td>\n",
       "      <td>18.90</td>\n",
       "      <td>25.31</td>\n",
       "      <td>0.33</td>\n",
       "      <td>4.15</td>\n",
       "    </tr>\n",
       "    <tr>\n",
       "      <th>3</th>\n",
       "      <td>2019-10-12 20:00:00</td>\n",
       "      <td>12.04</td>\n",
       "      <td>44.82</td>\n",
       "      <td>14.80</td>\n",
       "      <td>22.19</td>\n",
       "      <td>0.28</td>\n",
       "      <td>4.78</td>\n",
       "    </tr>\n",
       "    <tr>\n",
       "      <th>4</th>\n",
       "      <td>2019-10-12 21:00:00</td>\n",
       "      <td>12.45</td>\n",
       "      <td>55.13</td>\n",
       "      <td>11.64</td>\n",
       "      <td>17.97</td>\n",
       "      <td>0.25</td>\n",
       "      <td>4.14</td>\n",
       "    </tr>\n",
       "  </tbody>\n",
       "</table>\n",
       "</div>"
      ],
      "text/plain": [
       "                 Vreme  SO2 [ug.m-3]  O3 [ug.m-3]  NO2 [ug.m-3]  NOX [ug.m-3]  \\\n",
       "0  2019-10-12 17:00:00         20.78        48.59         21.68         28.16   \n",
       "1  2019-10-12 18:00:00         14.82        35.95         23.31         29.73   \n",
       "2  2019-10-12 19:00:00         12.47        40.89         18.90         25.31   \n",
       "3  2019-10-12 20:00:00         12.04        44.82         14.80         22.19   \n",
       "4  2019-10-12 21:00:00         12.45        55.13         11.64         17.97   \n",
       "\n",
       "   CO [mg.m-3]  NO [ug.m-3]  \n",
       "0         0.34         4.16  \n",
       "1         0.36         4.22  \n",
       "2         0.33         4.15  \n",
       "3         0.28         4.78  \n",
       "4         0.25         4.14  "
      ]
     },
     "execution_count": 37,
     "metadata": {},
     "output_type": "execute_result"
    }
   ],
   "source": [
    "df_kvalitet = pd.read_csv(\"./data/amskv_kvalitet.csv\")\n",
    "df_kvalitet = df_kvalitet.drop(labels=[\"Unnamed: 0\"], axis=1)\n",
    "df_kvalitet.head()"
   ]
  },
  {
   "cell_type": "markdown",
   "metadata": {},
   "source": [
    "Nastupa spajanje dva dataset-a."
   ]
  },
  {
   "cell_type": "code",
   "execution_count": 38,
   "metadata": {},
   "outputs": [
    {
     "data": {
      "text/html": [
       "<div>\n",
       "<style scoped>\n",
       "    .dataframe tbody tr th:only-of-type {\n",
       "        vertical-align: middle;\n",
       "    }\n",
       "\n",
       "    .dataframe tbody tr th {\n",
       "        vertical-align: top;\n",
       "    }\n",
       "\n",
       "    .dataframe thead th {\n",
       "        text-align: right;\n",
       "    }\n",
       "</style>\n",
       "<table border=\"1\" class=\"dataframe\">\n",
       "  <thead>\n",
       "    <tr style=\"text-align: right;\">\n",
       "      <th></th>\n",
       "      <th>Vreme</th>\n",
       "      <th>V [m/s]</th>\n",
       "      <th>dd [°]</th>\n",
       "      <th>P [mb]</th>\n",
       "      <th>t [°C]</th>\n",
       "      <th>SO2 [ug.m-3]</th>\n",
       "      <th>O3 [ug.m-3]</th>\n",
       "      <th>NO2 [ug.m-3]</th>\n",
       "      <th>NOX [ug.m-3]</th>\n",
       "      <th>CO [mg.m-3]</th>\n",
       "      <th>NO [ug.m-3]</th>\n",
       "    </tr>\n",
       "  </thead>\n",
       "  <tbody>\n",
       "    <tr>\n",
       "      <th>0</th>\n",
       "      <td>2019-10-12 17:00:00</td>\n",
       "      <td>0.42</td>\n",
       "      <td>115.59</td>\n",
       "      <td>1015.67</td>\n",
       "      <td>22.81</td>\n",
       "      <td>20.78</td>\n",
       "      <td>48.59</td>\n",
       "      <td>21.68</td>\n",
       "      <td>28.16</td>\n",
       "      <td>0.34</td>\n",
       "      <td>4.16</td>\n",
       "    </tr>\n",
       "    <tr>\n",
       "      <th>1</th>\n",
       "      <td>2019-10-12 18:00:00</td>\n",
       "      <td>0.91</td>\n",
       "      <td>131.52</td>\n",
       "      <td>1015.93</td>\n",
       "      <td>19.13</td>\n",
       "      <td>14.82</td>\n",
       "      <td>35.95</td>\n",
       "      <td>23.31</td>\n",
       "      <td>29.73</td>\n",
       "      <td>0.36</td>\n",
       "      <td>4.22</td>\n",
       "    </tr>\n",
       "    <tr>\n",
       "      <th>2</th>\n",
       "      <td>2019-10-12 19:00:00</td>\n",
       "      <td>0.95</td>\n",
       "      <td>131.06</td>\n",
       "      <td>1016.32</td>\n",
       "      <td>17.23</td>\n",
       "      <td>12.47</td>\n",
       "      <td>40.89</td>\n",
       "      <td>18.90</td>\n",
       "      <td>25.31</td>\n",
       "      <td>0.33</td>\n",
       "      <td>4.15</td>\n",
       "    </tr>\n",
       "    <tr>\n",
       "      <th>3</th>\n",
       "      <td>2019-10-12 20:00:00</td>\n",
       "      <td>0.99</td>\n",
       "      <td>137.33</td>\n",
       "      <td>1016.57</td>\n",
       "      <td>16.24</td>\n",
       "      <td>12.04</td>\n",
       "      <td>44.82</td>\n",
       "      <td>14.80</td>\n",
       "      <td>22.19</td>\n",
       "      <td>0.28</td>\n",
       "      <td>4.78</td>\n",
       "    </tr>\n",
       "    <tr>\n",
       "      <th>4</th>\n",
       "      <td>2019-10-12 21:00:00</td>\n",
       "      <td>0.86</td>\n",
       "      <td>136.70</td>\n",
       "      <td>1016.87</td>\n",
       "      <td>15.72</td>\n",
       "      <td>12.45</td>\n",
       "      <td>55.13</td>\n",
       "      <td>11.64</td>\n",
       "      <td>17.97</td>\n",
       "      <td>0.25</td>\n",
       "      <td>4.14</td>\n",
       "    </tr>\n",
       "  </tbody>\n",
       "</table>\n",
       "</div>"
      ],
      "text/plain": [
       "                 Vreme  V [m/s]  dd [°]   P [mb]  t [°C]  SO2 [ug.m-3]  \\\n",
       "0  2019-10-12 17:00:00     0.42  115.59  1015.67   22.81         20.78   \n",
       "1  2019-10-12 18:00:00     0.91  131.52  1015.93   19.13         14.82   \n",
       "2  2019-10-12 19:00:00     0.95  131.06  1016.32   17.23         12.47   \n",
       "3  2019-10-12 20:00:00     0.99  137.33  1016.57   16.24         12.04   \n",
       "4  2019-10-12 21:00:00     0.86  136.70  1016.87   15.72         12.45   \n",
       "\n",
       "   O3 [ug.m-3]  NO2 [ug.m-3]  NOX [ug.m-3]  CO [mg.m-3]  NO [ug.m-3]  \n",
       "0        48.59         21.68         28.16         0.34         4.16  \n",
       "1        35.95         23.31         29.73         0.36         4.22  \n",
       "2        40.89         18.90         25.31         0.33         4.15  \n",
       "3        44.82         14.80         22.19         0.28         4.78  \n",
       "4        55.13         11.64         17.97         0.25         4.14  "
      ]
     },
     "execution_count": 38,
     "metadata": {},
     "output_type": "execute_result"
    }
   ],
   "source": [
    "df = pd.merge(df_vreme, df_kvalitet, on=\"Vreme\")\n",
    "df.head()"
   ]
  },
  {
   "cell_type": "markdown",
   "metadata": {},
   "source": [
    "Obeležija koja se nalaze u kreiranom dataset-u su:\n",
    "-   Vreme\n",
    "-   Koncentracija SO2 SO2 \\[ug.m-3\\]\n",
    "-   Koncentracija O3  \\[ug.m-3\\]\n",
    "-   Koncentracija NO2 \\[ug.m-3\\]\n",
    "-   Koncentracija NOX \\[ug.m-3\\]\n",
    "-   Koncentracija CO  \\[mg.m-3\\]\n",
    "-   Koncentracija NO  \\[ug.m-3\\]\n",
    "-   Brzina vetra  V   \\[m/s\\]\n",
    "-   Mera grejanja i hladjenja vazduha dd  \\[°\\]\n",
    "-   Vazdušni pritisak P   \\[mb\\]\n",
    "-   Temperatura t   \\[°C\\]"
   ]
  },
  {
   "cell_type": "markdown",
   "metadata": {},
   "source": [
    "Prikaz tipova podataka. Možemo uočiti da su svi kontinualni."
   ]
  },
  {
   "cell_type": "code",
   "execution_count": 39,
   "metadata": {},
   "outputs": [
    {
     "data": {
      "text/plain": [
       "Vreme            object\n",
       "V [m/s]         float64\n",
       "dd [°]          float64\n",
       "P [mb]          float64\n",
       "t [°C]          float64\n",
       "SO2 [ug.m-3]    float64\n",
       "O3 [ug.m-3]     float64\n",
       "NO2 [ug.m-3]    float64\n",
       "NOX [ug.m-3]    float64\n",
       "CO [mg.m-3]     float64\n",
       "NO [ug.m-3]     float64\n",
       "dtype: object"
      ]
     },
     "execution_count": 39,
     "metadata": {},
     "output_type": "execute_result"
    }
   ],
   "source": [
    "df.dtypes"
   ]
  },
  {
   "cell_type": "markdown",
   "metadata": {},
   "source": [
    "Broj torki je 719. Broj obeležija je 11"
   ]
  },
  {
   "cell_type": "code",
   "execution_count": 40,
   "metadata": {},
   "outputs": [
    {
     "data": {
      "text/plain": [
       "(719, 11)"
      ]
     },
     "execution_count": 40,
     "metadata": {},
     "output_type": "execute_result"
    }
   ],
   "source": [
    "df.shape"
   ]
  },
  {
   "cell_type": "markdown",
   "metadata": {},
   "source": [
    "Količina podataka predstavlja period od mesec dana gde pritom svaka torka predstavlja koncentraciju čestica i meteorološke informacije u jednom času.\n"
   ]
  },
  {
   "cell_type": "markdown",
   "metadata": {},
   "source": [
    "Tražimo outler-e koje izlaze iz nekog realnog domena ( moguća greška kod senzora ), i ako postoje, možemo ih izbaciti. Primer prikazan na koncentracija CO signalu:"
   ]
  },
  {
   "cell_type": "code",
   "execution_count": 41,
   "metadata": {},
   "outputs": [
    {
     "data": {
      "text/plain": [
       "[<matplotlib.lines.Line2D at 0x7f4add1876d0>]"
      ]
     },
     "execution_count": 41,
     "metadata": {},
     "output_type": "execute_result"
    },
    {
     "data": {
      "image/png": "[encoded data removed]",
      "text/plain": [
       "<Figure size 432x288 with 1 Axes>"
      ]
     },
     "metadata": {
      "needs_background": "light"
     },
     "output_type": "display_data"
    }
   ],
   "source": [
    "plt.title(\"Koncentracija CO u toku poslednjih mesec dana\")\n",
    "plt.xlabel(\"Vreme\")\n",
    "plt.ylabel(\"Koncentracija CO\")\n",
    "plt.plot(df[\"CO [mg.m-3]\"])"
   ]
  },
  {
   "cell_type": "markdown",
   "metadata": {},
   "source": [
    "Uočavamo da postoji outlier van granica realnog domena."
   ]
  },
  {
   "cell_type": "code",
   "execution_count": 42,
   "metadata": {},
   "outputs": [
    {
     "data": {
      "text/plain": [
       "[<matplotlib.lines.Line2D at 0x7f4ad82cf490>]"
      ]
     },
     "execution_count": 42,
     "metadata": {},
     "output_type": "execute_result"
    },
    {
     "data": {
      "image/png": "[encoded data removed]",
      "text/plain": [
       "<Figure size 432x288 with 1 Axes>"
      ]
     },
     "metadata": {
      "needs_background": "light"
     },
     "output_type": "display_data"
    }
   ],
   "source": [
    "df = df[df['CO [mg.m-3]'] < 4]\n",
    "plt.title(\"Koncentracija CO u toku poslednjih mesec dana\")\n",
    "plt.xlabel(\"Vreme\")\n",
    "plt.ylabel(\"Koncentracija CO\")\n",
    "plt.plot(df[\"CO [mg.m-3]\"])"
   ]
  },
  {
   "cell_type": "markdown",
   "metadata": {},
   "source": [
    "\n",
    "2. Torke kojima ne dostaju pojedine vrednosti možemo izbaciti ali možemo uraditi interpolaciju izmedju 2 poznate vrednosti.\n"
   ]
  },
  {
   "cell_type": "markdown",
   "metadata": {},
   "source": [
    "Uočavamo da postoje nepostojeće ili nezadane vrednosti u obeležijama."
   ]
  },
  {
   "cell_type": "code",
   "execution_count": 43,
   "metadata": {},
   "outputs": [
    {
     "data": {
      "text/plain": [
       "Vreme            0\n",
       "V [m/s]          0\n",
       "dd [°]           0\n",
       "P [mb]           0\n",
       "t [°C]           0\n",
       "SO2 [ug.m-3]    42\n",
       "O3 [ug.m-3]     10\n",
       "NO2 [ug.m-3]    24\n",
       "NOX [ug.m-3]    21\n",
       "CO [mg.m-3]      0\n",
       "NO [ug.m-3]     22\n",
       "dtype: int64"
      ]
     },
     "execution_count": 43,
     "metadata": {},
     "output_type": "execute_result"
    }
   ],
   "source": [
    "df.isna().sum()"
   ]
  },
  {
   "cell_type": "code",
   "execution_count": 44,
   "metadata": {},
   "outputs": [
    {
     "data": {
      "text/plain": [
       "<matplotlib.axes._subplots.AxesSubplot at 0x7f4ad83dfe10>"
      ]
     },
     "execution_count": 44,
     "metadata": {},
     "output_type": "execute_result"
    },
    {
     "data": {
      "image/png": "[encoded data removed]",
      "text/plain": [
       "<Figure size 432x288 with 1 Axes>"
      ]
     },
     "metadata": {
      "needs_background": "light"
     },
     "output_type": "display_data"
    }
   ],
   "source": [
    "df[\"SO2 [ug.m-3]\"].plot()"
   ]
  },
  {
   "cell_type": "code",
   "execution_count": 45,
   "metadata": {},
   "outputs": [
    {
     "data": {
      "text/plain": [
       "Vreme           0\n",
       "V [m/s]         0\n",
       "dd [°]          0\n",
       "P [mb]          0\n",
       "t [°C]          0\n",
       "SO2 [ug.m-3]    0\n",
       "O3 [ug.m-3]     0\n",
       "NO2 [ug.m-3]    0\n",
       "NOX [ug.m-3]    0\n",
       "CO [mg.m-3]     0\n",
       "NO [ug.m-3]     0\n",
       "dtype: int64"
      ]
     },
     "execution_count": 45,
     "metadata": {},
     "output_type": "execute_result"
    }
   ],
   "source": [
    "df[\"SO2 [ug.m-3]\"] = df[\"SO2 [ug.m-3]\"].interpolate()\n",
    "df[\"O3 [ug.m-3]\"] = df[\"O3 [ug.m-3]\"].interpolate()\n",
    "df[\"NO2 [ug.m-3]\"] = df[\"NO2 [ug.m-3]\"].interpolate()\n",
    "df[\"NOX [ug.m-3]\"] = df[\"NOX [ug.m-3]\"].interpolate()\n",
    "df[\"NO [ug.m-3]\"] = df[\"NO [ug.m-3]\"].interpolate()\n",
    "df.isna().sum()"
   ]
  },
  {
   "cell_type": "code",
   "execution_count": 46,
   "metadata": {},
   "outputs": [
    {
     "data": {
      "text/plain": [
       "<matplotlib.axes._subplots.AxesSubplot at 0x7f4ad82c5050>"
      ]
     },
     "execution_count": 46,
     "metadata": {},
     "output_type": "execute_result"
    },
    {
     "data": {
      "image/png": "[encoded data removed]",
      "text/plain": [
       "<Figure size 432x288 with 1 Axes>"
      ]
     },
     "metadata": {
      "needs_background": "light"
     },
     "output_type": "display_data"
    }
   ],
   "source": [
    "df[\"SO2 [ug.m-3]\"].plot()"
   ]
  },
  {
   "cell_type": "markdown",
   "metadata": {},
   "source": [
    "Na priloženoj slici se može videti da je interpolacija bila uspešna."
   ]
  },
  {
   "cell_type": "code",
   "execution_count": 47,
   "metadata": {},
   "outputs": [
    {
     "data": {
      "text/plain": [
       "Vreme           0\n",
       "V [m/s]         0\n",
       "dd [°]          0\n",
       "P [mb]          0\n",
       "t [°C]          0\n",
       "SO2 [ug.m-3]    0\n",
       "O3 [ug.m-3]     0\n",
       "NO2 [ug.m-3]    0\n",
       "NOX [ug.m-3]    0\n",
       "CO [mg.m-3]     0\n",
       "NO [ug.m-3]     0\n",
       "dtype: int64"
      ]
     },
     "execution_count": 47,
     "metadata": {},
     "output_type": "execute_result"
    }
   ],
   "source": [
    "df.isna().sum()"
   ]
  },
  {
   "cell_type": "markdown",
   "metadata": {},
   "source": [
    "Takodje, vidimo da ne postoje nedostajuće vrednosti. "
   ]
  },
  {
   "cell_type": "markdown",
   "metadata": {},
   "source": [
    "## Korisni prikazi podataka\n",
    "Neki prikazi podataka koji mogu bolje da objasne odnos podataka."
   ]
  },
  {
   "cell_type": "markdown",
   "metadata": {},
   "source": [
    "### Korelacija podataka\n",
    "\n",
    "Prikazujemo korelacionu matricu da bi uocili korelaciju vrednosti iz svakog obeležija. Svaki broj predstavlja redni broj kolone u tabeli."
   ]
  },
  {
   "cell_type": "code",
   "execution_count": 48,
   "metadata": {},
   "outputs": [
    {
     "data": {
      "text/plain": [
       "<matplotlib.image.AxesImage at 0x7f4ad9618b50>"
      ]
     },
     "execution_count": 48,
     "metadata": {},
     "output_type": "execute_result"
    },
    {
     "data": {
      "image/png": "[encoded data removed]",
      "text/plain": [
       "<Figure size 288x288 with 1 Axes>"
      ]
     },
     "metadata": {
      "needs_background": "light"
     },
     "output_type": "display_data"
    }
   ],
   "source": [
    "import matplotlib.pyplot as plt\n",
    "\n",
    "plt.matshow(df.corr())"
   ]
  },
  {
   "cell_type": "code",
   "execution_count": 49,
   "metadata": {},
   "outputs": [
    {
     "data": {
      "text/html": [
       "<div>\n",
       "<style scoped>\n",
       "    .dataframe tbody tr th:only-of-type {\n",
       "        vertical-align: middle;\n",
       "    }\n",
       "\n",
       "    .dataframe tbody tr th {\n",
       "        vertical-align: top;\n",
       "    }\n",
       "\n",
       "    .dataframe thead th {\n",
       "        text-align: right;\n",
       "    }\n",
       "</style>\n",
       "<table border=\"1\" class=\"dataframe\">\n",
       "  <thead>\n",
       "    <tr style=\"text-align: right;\">\n",
       "      <th></th>\n",
       "      <th>V [m/s]</th>\n",
       "      <th>dd [°]</th>\n",
       "      <th>P [mb]</th>\n",
       "      <th>t [°C]</th>\n",
       "      <th>SO2 [ug.m-3]</th>\n",
       "      <th>O3 [ug.m-3]</th>\n",
       "      <th>NO2 [ug.m-3]</th>\n",
       "      <th>NOX [ug.m-3]</th>\n",
       "      <th>CO [mg.m-3]</th>\n",
       "      <th>NO [ug.m-3]</th>\n",
       "    </tr>\n",
       "  </thead>\n",
       "  <tbody>\n",
       "    <tr>\n",
       "      <th>V [m/s]</th>\n",
       "      <td>1.000000</td>\n",
       "      <td>-0.016376</td>\n",
       "      <td>-0.492275</td>\n",
       "      <td>0.093428</td>\n",
       "      <td>0.184569</td>\n",
       "      <td>0.259869</td>\n",
       "      <td>-0.382303</td>\n",
       "      <td>-0.357428</td>\n",
       "      <td>-0.374836</td>\n",
       "      <td>-0.238221</td>\n",
       "    </tr>\n",
       "    <tr>\n",
       "      <th>dd [°]</th>\n",
       "      <td>-0.016376</td>\n",
       "      <td>1.000000</td>\n",
       "      <td>0.049915</td>\n",
       "      <td>-0.122447</td>\n",
       "      <td>-0.095715</td>\n",
       "      <td>-0.092288</td>\n",
       "      <td>-0.060512</td>\n",
       "      <td>-0.028920</td>\n",
       "      <td>-0.103357</td>\n",
       "      <td>0.005969</td>\n",
       "    </tr>\n",
       "    <tr>\n",
       "      <th>P [mb]</th>\n",
       "      <td>-0.492275</td>\n",
       "      <td>0.049915</td>\n",
       "      <td>1.000000</td>\n",
       "      <td>-0.133971</td>\n",
       "      <td>-0.266349</td>\n",
       "      <td>-0.016501</td>\n",
       "      <td>0.362067</td>\n",
       "      <td>0.272439</td>\n",
       "      <td>0.250870</td>\n",
       "      <td>0.114603</td>\n",
       "    </tr>\n",
       "    <tr>\n",
       "      <th>t [°C]</th>\n",
       "      <td>0.093428</td>\n",
       "      <td>-0.122447</td>\n",
       "      <td>-0.133971</td>\n",
       "      <td>1.000000</td>\n",
       "      <td>0.425245</td>\n",
       "      <td>0.708841</td>\n",
       "      <td>0.277514</td>\n",
       "      <td>0.129646</td>\n",
       "      <td>0.154042</td>\n",
       "      <td>-0.046924</td>\n",
       "    </tr>\n",
       "    <tr>\n",
       "      <th>SO2 [ug.m-3]</th>\n",
       "      <td>0.184569</td>\n",
       "      <td>-0.095715</td>\n",
       "      <td>-0.266349</td>\n",
       "      <td>0.425245</td>\n",
       "      <td>1.000000</td>\n",
       "      <td>0.395165</td>\n",
       "      <td>0.103070</td>\n",
       "      <td>0.047528</td>\n",
       "      <td>0.103552</td>\n",
       "      <td>-0.019430</td>\n",
       "    </tr>\n",
       "    <tr>\n",
       "      <th>O3 [ug.m-3]</th>\n",
       "      <td>0.259869</td>\n",
       "      <td>-0.092288</td>\n",
       "      <td>-0.016501</td>\n",
       "      <td>0.708841</td>\n",
       "      <td>0.395165</td>\n",
       "      <td>1.000000</td>\n",
       "      <td>-0.146045</td>\n",
       "      <td>-0.327335</td>\n",
       "      <td>-0.128930</td>\n",
       "      <td>-0.415431</td>\n",
       "    </tr>\n",
       "    <tr>\n",
       "      <th>NO2 [ug.m-3]</th>\n",
       "      <td>-0.382303</td>\n",
       "      <td>-0.060512</td>\n",
       "      <td>0.362067</td>\n",
       "      <td>0.277514</td>\n",
       "      <td>0.103070</td>\n",
       "      <td>-0.146045</td>\n",
       "      <td>1.000000</td>\n",
       "      <td>0.862361</td>\n",
       "      <td>0.712919</td>\n",
       "      <td>0.504547</td>\n",
       "    </tr>\n",
       "    <tr>\n",
       "      <th>NOX [ug.m-3]</th>\n",
       "      <td>-0.357428</td>\n",
       "      <td>-0.028920</td>\n",
       "      <td>0.272439</td>\n",
       "      <td>0.129646</td>\n",
       "      <td>0.047528</td>\n",
       "      <td>-0.327335</td>\n",
       "      <td>0.862361</td>\n",
       "      <td>1.000000</td>\n",
       "      <td>0.743641</td>\n",
       "      <td>0.871758</td>\n",
       "    </tr>\n",
       "    <tr>\n",
       "      <th>CO [mg.m-3]</th>\n",
       "      <td>-0.374836</td>\n",
       "      <td>-0.103357</td>\n",
       "      <td>0.250870</td>\n",
       "      <td>0.154042</td>\n",
       "      <td>0.103552</td>\n",
       "      <td>-0.128930</td>\n",
       "      <td>0.712919</td>\n",
       "      <td>0.743641</td>\n",
       "      <td>1.000000</td>\n",
       "      <td>0.577907</td>\n",
       "    </tr>\n",
       "    <tr>\n",
       "      <th>NO [ug.m-3]</th>\n",
       "      <td>-0.238221</td>\n",
       "      <td>0.005969</td>\n",
       "      <td>0.114603</td>\n",
       "      <td>-0.046924</td>\n",
       "      <td>-0.019430</td>\n",
       "      <td>-0.415431</td>\n",
       "      <td>0.504547</td>\n",
       "      <td>0.871758</td>\n",
       "      <td>0.577907</td>\n",
       "      <td>1.000000</td>\n",
       "    </tr>\n",
       "  </tbody>\n",
       "</table>\n",
       "</div>"
      ],
      "text/plain": [
       "               V [m/s]    dd [°]    P [mb]    t [°C]  SO2 [ug.m-3]  \\\n",
       "V [m/s]       1.000000 -0.016376 -0.492275  0.093428      0.184569   \n",
       "dd [°]       -0.016376  1.000000  0.049915 -0.122447     -0.095715   \n",
       "P [mb]       -0.492275  0.049915  1.000000 -0.133971     -0.266349   \n",
       "t [°C]        0.093428 -0.122447 -0.133971  1.000000      0.425245   \n",
       "SO2 [ug.m-3]  0.184569 -0.095715 -0.266349  0.425245      1.000000   \n",
       "O3 [ug.m-3]   0.259869 -0.092288 -0.016501  0.708841      0.395165   \n",
       "NO2 [ug.m-3] -0.382303 -0.060512  0.362067  0.277514      0.103070   \n",
       "NOX [ug.m-3] -0.357428 -0.028920  0.272439  0.129646      0.047528   \n",
       "CO [mg.m-3]  -0.374836 -0.103357  0.250870  0.154042      0.103552   \n",
       "NO [ug.m-3]  -0.238221  0.005969  0.114603 -0.046924     -0.019430   \n",
       "\n",
       "              O3 [ug.m-3]  NO2 [ug.m-3]  NOX [ug.m-3]  CO [mg.m-3]  \\\n",
       "V [m/s]          0.259869     -0.382303     -0.357428    -0.374836   \n",
       "dd [°]          -0.092288     -0.060512     -0.028920    -0.103357   \n",
       "P [mb]          -0.016501      0.362067      0.272439     0.250870   \n",
       "t [°C]           0.708841      0.277514      0.129646     0.154042   \n",
       "SO2 [ug.m-3]     0.395165      0.103070      0.047528     0.103552   \n",
       "O3 [ug.m-3]      1.000000     -0.146045     -0.327335    -0.128930   \n",
       "NO2 [ug.m-3]    -0.146045      1.000000      0.862361     0.712919   \n",
       "NOX [ug.m-3]    -0.327335      0.862361      1.000000     0.743641   \n",
       "CO [mg.m-3]     -0.128930      0.712919      0.743641     1.000000   \n",
       "NO [ug.m-3]     -0.415431      0.504547      0.871758     0.577907   \n",
       "\n",
       "              NO [ug.m-3]  \n",
       "V [m/s]         -0.238221  \n",
       "dd [°]           0.005969  \n",
       "P [mb]           0.114603  \n",
       "t [°C]          -0.046924  \n",
       "SO2 [ug.m-3]    -0.019430  \n",
       "O3 [ug.m-3]     -0.415431  \n",
       "NO2 [ug.m-3]     0.504547  \n",
       "NOX [ug.m-3]     0.871758  \n",
       "CO [mg.m-3]      0.577907  \n",
       "NO [ug.m-3]      1.000000  "
      ]
     },
     "execution_count": 49,
     "metadata": {},
     "output_type": "execute_result"
    }
   ],
   "source": [
    "df.corr()"
   ]
  },
  {
   "cell_type": "markdown",
   "metadata": {},
   "source": [
    "#### Deskriptivna analiza podataka"
   ]
  },
  {
   "cell_type": "code",
   "execution_count": 50,
   "metadata": {
    "scrolled": true
   },
   "outputs": [
    {
     "data": {
      "text/html": [
       "<div>\n",
       "<style scoped>\n",
       "    .dataframe tbody tr th:only-of-type {\n",
       "        vertical-align: middle;\n",
       "    }\n",
       "\n",
       "    .dataframe tbody tr th {\n",
       "        vertical-align: top;\n",
       "    }\n",
       "\n",
       "    .dataframe thead th {\n",
       "        text-align: right;\n",
       "    }\n",
       "</style>\n",
       "<table border=\"1\" class=\"dataframe\">\n",
       "  <thead>\n",
       "    <tr style=\"text-align: right;\">\n",
       "      <th></th>\n",
       "      <th>V [m/s]</th>\n",
       "      <th>dd [°]</th>\n",
       "      <th>P [mb]</th>\n",
       "      <th>t [°C]</th>\n",
       "      <th>SO2 [ug.m-3]</th>\n",
       "      <th>O3 [ug.m-3]</th>\n",
       "      <th>NO2 [ug.m-3]</th>\n",
       "      <th>NOX [ug.m-3]</th>\n",
       "      <th>CO [mg.m-3]</th>\n",
       "      <th>NO [ug.m-3]</th>\n",
       "    </tr>\n",
       "  </thead>\n",
       "  <tbody>\n",
       "    <tr>\n",
       "      <th>count</th>\n",
       "      <td>707.000000</td>\n",
       "      <td>707.000000</td>\n",
       "      <td>707.000000</td>\n",
       "      <td>707.000000</td>\n",
       "      <td>707.000000</td>\n",
       "      <td>707.000000</td>\n",
       "      <td>707.000000</td>\n",
       "      <td>707.000000</td>\n",
       "      <td>707.000000</td>\n",
       "      <td>707.000000</td>\n",
       "    </tr>\n",
       "    <tr>\n",
       "      <th>mean</th>\n",
       "      <td>0.626209</td>\n",
       "      <td>148.535941</td>\n",
       "      <td>1010.277016</td>\n",
       "      <td>16.555035</td>\n",
       "      <td>12.491740</td>\n",
       "      <td>39.356273</td>\n",
       "      <td>15.273083</td>\n",
       "      <td>25.864215</td>\n",
       "      <td>0.332857</td>\n",
       "      <td>6.930170</td>\n",
       "    </tr>\n",
       "    <tr>\n",
       "      <th>std</th>\n",
       "      <td>0.577277</td>\n",
       "      <td>81.273509</td>\n",
       "      <td>7.171422</td>\n",
       "      <td>4.947293</td>\n",
       "      <td>8.920099</td>\n",
       "      <td>27.506838</td>\n",
       "      <td>10.428025</td>\n",
       "      <td>18.426168</td>\n",
       "      <td>0.176054</td>\n",
       "      <td>7.064265</td>\n",
       "    </tr>\n",
       "    <tr>\n",
       "      <th>min</th>\n",
       "      <td>0.020000</td>\n",
       "      <td>1.290000</td>\n",
       "      <td>990.820000</td>\n",
       "      <td>5.130000</td>\n",
       "      <td>0.630000</td>\n",
       "      <td>0.500000</td>\n",
       "      <td>0.500000</td>\n",
       "      <td>2.480000</td>\n",
       "      <td>0.100000</td>\n",
       "      <td>0.500000</td>\n",
       "    </tr>\n",
       "    <tr>\n",
       "      <th>25%</th>\n",
       "      <td>0.280000</td>\n",
       "      <td>109.325000</td>\n",
       "      <td>1004.435000</td>\n",
       "      <td>13.250000</td>\n",
       "      <td>7.385000</td>\n",
       "      <td>16.460000</td>\n",
       "      <td>7.115000</td>\n",
       "      <td>13.375000</td>\n",
       "      <td>0.200000</td>\n",
       "      <td>3.790000</td>\n",
       "    </tr>\n",
       "    <tr>\n",
       "      <th>50%</th>\n",
       "      <td>0.460000</td>\n",
       "      <td>132.870000</td>\n",
       "      <td>1012.170000</td>\n",
       "      <td>16.060000</td>\n",
       "      <td>10.490000</td>\n",
       "      <td>33.840000</td>\n",
       "      <td>13.225000</td>\n",
       "      <td>20.930000</td>\n",
       "      <td>0.290000</td>\n",
       "      <td>4.680000</td>\n",
       "    </tr>\n",
       "    <tr>\n",
       "      <th>75%</th>\n",
       "      <td>0.735000</td>\n",
       "      <td>156.115000</td>\n",
       "      <td>1015.700000</td>\n",
       "      <td>19.385000</td>\n",
       "      <td>14.055000</td>\n",
       "      <td>58.180000</td>\n",
       "      <td>20.615000</td>\n",
       "      <td>32.185000</td>\n",
       "      <td>0.420000</td>\n",
       "      <td>6.440000</td>\n",
       "    </tr>\n",
       "    <tr>\n",
       "      <th>max</th>\n",
       "      <td>3.710000</td>\n",
       "      <td>359.310000</td>\n",
       "      <td>1021.370000</td>\n",
       "      <td>29.240000</td>\n",
       "      <td>80.750000</td>\n",
       "      <td>141.260000</td>\n",
       "      <td>56.550000</td>\n",
       "      <td>131.450000</td>\n",
       "      <td>1.340000</td>\n",
       "      <td>59.570000</td>\n",
       "    </tr>\n",
       "  </tbody>\n",
       "</table>\n",
       "</div>"
      ],
      "text/plain": [
       "          V [m/s]      dd [°]       P [mb]      t [°C]  SO2 [ug.m-3]  \\\n",
       "count  707.000000  707.000000   707.000000  707.000000    707.000000   \n",
       "mean     0.626209  148.535941  1010.277016   16.555035     12.491740   \n",
       "std      0.577277   81.273509     7.171422    4.947293      8.920099   \n",
       "min      0.020000    1.290000   990.820000    5.130000      0.630000   \n",
       "25%      0.280000  109.325000  1004.435000   13.250000      7.385000   \n",
       "50%      0.460000  132.870000  1012.170000   16.060000     10.490000   \n",
       "75%      0.735000  156.115000  1015.700000   19.385000     14.055000   \n",
       "max      3.710000  359.310000  1021.370000   29.240000     80.750000   \n",
       "\n",
       "       O3 [ug.m-3]  NO2 [ug.m-3]  NOX [ug.m-3]  CO [mg.m-3]  NO [ug.m-3]  \n",
       "count   707.000000    707.000000    707.000000   707.000000   707.000000  \n",
       "mean     39.356273     15.273083     25.864215     0.332857     6.930170  \n",
       "std      27.506838     10.428025     18.426168     0.176054     7.064265  \n",
       "min       0.500000      0.500000      2.480000     0.100000     0.500000  \n",
       "25%      16.460000      7.115000     13.375000     0.200000     3.790000  \n",
       "50%      33.840000     13.225000     20.930000     0.290000     4.680000  \n",
       "75%      58.180000     20.615000     32.185000     0.420000     6.440000  \n",
       "max     141.260000     56.550000    131.450000     1.340000    59.570000  "
      ]
     },
     "execution_count": 50,
     "metadata": {},
     "output_type": "execute_result"
    }
   ],
   "source": [
    "df.describe()"
   ]
  },
  {
   "cell_type": "markdown",
   "metadata": {},
   "source": [
    "Možemo uočiti negativnu korelaciju izmedju vazdušnog pritiska (P) i koncentracije ugljen-monoksida (CO). Prvo radimo normalizaciju."
   ]
  },
  {
   "cell_type": "code",
   "execution_count": 51,
   "metadata": {},
   "outputs": [],
   "source": [
    "df_pritisak = df[\"P [mb]\"]\n",
    "df_co = df[\"CO [mg.m-3]\"]\n",
    "df_pritisak_norm = (df_pritisak - df_pritisak.mean()) / (df_pritisak.max() - df_pritisak.min())\n",
    "df_co_norm = (df_co - df_co.mean()) / (df_co.max() - df_co.min())"
   ]
  },
  {
   "cell_type": "code",
   "execution_count": 52,
   "metadata": {},
   "outputs": [
    {
     "data": {
      "text/plain": [
       "<matplotlib.collections.PathCollection at 0x7f4ad8d09ad0>"
      ]
     },
     "execution_count": 52,
     "metadata": {},
     "output_type": "execute_result"
    },
    {
     "data": {
      "image/png": "[encoded data removed]",
      "text/plain": [
       "<Figure size 432x288 with 1 Axes>"
      ]
     },
     "metadata": {
      "needs_background": "light"
     },
     "output_type": "display_data"
    }
   ],
   "source": [
    "import matplotlib.pyplot as plt\n",
    "plt.xlabel(\"Koncentracija CO\")\n",
    "plt.ylabel(\"Vazdušni pritisak\")\n",
    "plt.scatter(df_co_norm,df_pritisak_norm)"
   ]
  },
  {
   "cell_type": "markdown",
   "metadata": {},
   "source": [
    "Takodje, možemo uočiti korelaciju izmedju temperature i koncentracije CO."
   ]
  },
  {
   "cell_type": "code",
   "execution_count": 53,
   "metadata": {},
   "outputs": [],
   "source": [
    "def normalizacija(df):\n",
    "    return (df - df.mean()) / (df.max() - df.min())\n",
    "    \n",
    "df_temp = df[\"t [°C]\"]\n",
    "df_co = df[\"CO [mg.m-3]\"]\n",
    "df_temp_norm = normalizacija(df_temp)\n",
    "df_co_norm = normalizacija(df_co)"
   ]
  },
  {
   "cell_type": "code",
   "execution_count": 54,
   "metadata": {},
   "outputs": [
    {
     "data": {
      "text/plain": [
       "<matplotlib.collections.PathCollection at 0x7f4ad8d14f10>"
      ]
     },
     "execution_count": 54,
     "metadata": {},
     "output_type": "execute_result"
    },
    {
     "data": {
      "image/png": "[encoded data removed]",
      "text/plain": [
       "<Figure size 432x288 with 1 Axes>"
      ]
     },
     "metadata": {
      "needs_background": "light"
     },
     "output_type": "display_data"
    }
   ],
   "source": [
    "import matplotlib.pyplot as plt\n",
    "plt.xlabel(\"Koncentracija CO\")\n",
    "plt.ylabel(\"Temperatura vazduha\")\n",
    "plt.scatter(df_co_norm,df_temp_norm)"
   ]
  },
  {
   "cell_type": "markdown",
   "metadata": {},
   "source": [
    "#### Ostali korisni pregledi podataka"
   ]
  },
  {
   "cell_type": "markdown",
   "metadata": {},
   "source": [
    "Mozemo i uočiti konkretna kretanja u roku od 24h."
   ]
  },
  {
   "cell_type": "code",
   "execution_count": 55,
   "metadata": {},
   "outputs": [
    {
     "data": {
      "image/png": "[encoded data removed]",
      "text/plain": [
       "<Figure size 432x288 with 1 Axes>"
      ]
     },
     "metadata": {
      "needs_background": "light"
     },
     "output_type": "display_data"
    }
   ],
   "source": [
    "plt.title(\"Koncentracija gasova\")\n",
    "plt.xlabel(\"Vreme\")\n",
    "plt.ylabel(\"Koncentracija gasova\")\n",
    "df_no2_norm = normalizacija(df[\"NO2 [ug.m-3]\"])\n",
    "df_co_norm = normalizacija(df[\"CO [mg.m-3]\"])\n",
    "plt.scatter(df[\"Vreme\"], df_co_norm);\n",
    "plt.scatter(df[\"Vreme\"], df_no2_norm)\n",
    "plt.legend()\n",
    "plt.show()\n"
   ]
  },
  {
   "cell_type": "markdown",
   "metadata": {},
   "source": [
    "Možemo videti pojavu trenda kod odredjenih gasova."
   ]
  },
  {
   "cell_type": "markdown",
   "metadata": {},
   "source": [
    "Možemo i videti kretanja ostalih štetnih gasova u toku poslednjih 24 sata."
   ]
  },
  {
   "cell_type": "code",
   "execution_count": 56,
   "metadata": {
    "scrolled": true
   },
   "outputs": [
    {
     "data": {
      "text/plain": [
       "<matplotlib.axes._subplots.AxesSubplot at 0x7f4ad97bd710>"
      ]
     },
     "execution_count": 56,
     "metadata": {},
     "output_type": "execute_result"
    },
    {
     "data": {
      "image/png": "[encoded data removed]",
      "text/plain": [
       "<Figure size 432x288 with 1 Axes>"
      ]
     },
     "metadata": {
      "needs_background": "light"
     },
     "output_type": "display_data"
    }
   ],
   "source": [
    "df.tail(24).plot(y=[\"SO2 [ug.m-3]\",\"O3 [ug.m-3]\",\"NO2 [ug.m-3]\",\"NOX [ug.m-3]\",\"CO [mg.m-3]\",\"NO [ug.m-3]\"])"
   ]
  },
  {
   "cell_type": "markdown",
   "metadata": {},
   "source": [
    "##  Grafički interfejs za predstavu kvaliteta vazduha\n",
    "\n",
    "Zbog pogodnosti korisnika najintuitivniji način reprezentacije kvaliteta vazduha je kroz softver za mobilne telefone ili internet stranicu.\n",
    "\n",
    "Aplikacija bi omogućila prikaz klasifikacije trenutnog stanja AQI indeksa, kao i prognoziranu vrednost AQI i njegovu klasifikaciju za narednih 24h sata.\n",
    "\n",
    "<img src=\"app.png\"\n",
    "     alt=\"Markdown Monster icon\"\n",
    "     style=\"float: left; margin-right: 10px;\" />"
   ]
  },
  {
   "cell_type": "markdown",
   "metadata": {},
   "source": [
    "## Literatura\n",
    "- https://www.ritchieng.com/multi-variable-linear-regression/\n",
    "- https://cmertin.github.io/Predicting-Air-Quality.html\n",
    "- https://airnow.gov/index.cfm?action=aqibasics.aqi\n",
    "- https://en.wikipedia.org/wiki/Air_quality_index#Computing_the_AQI"
   ]
  }
 ],
 "metadata": {
  "file_extension": ".py",
  "kernelspec": {
   "display_name": "Python 3",
   "language": "python",
   "name": "python3"
  },
  "language_info": {
   "codemirror_mode": {
    "name": "ipython",
    "version": 3
   },
   "file_extension": ".py",
   "mimetype": "text/x-python",
   "name": "python",
   "nbconvert_exporter": "python",
   "pygments_lexer": "ipython3",
   "version": "3.7.4"
  },
  "mimetype": "text/x-python",
  "name": "python",
  "npconvert_exporter": "python",
  "pygments_lexer": "ipython3",
  "version": 3
 },
 "nbformat": 4,
 "nbformat_minor": 2
}
